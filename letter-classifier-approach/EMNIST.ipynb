{
  "nbformat": 4,
  "nbformat_minor": 0,
  "metadata": {
    "colab": {
      "name": "EMNIST-model-MSC.ipynb",
      "provenance": [],
      "collapsed_sections": []
    },
    "kernelspec": {
      "name": "python3",
      "display_name": "Python 3"
    },
    "accelerator": "GPU",
    "widgets": {
      "application/vnd.jupyter.widget-state+json": {
        "1cdf2f36c0c54caf8d015b0111dd96c5": {
          "model_module": "@jupyter-widgets/controls",
          "model_name": "HBoxModel",
          "state": {
            "_view_name": "HBoxView",
            "_dom_classes": [],
            "_model_name": "HBoxModel",
            "_view_module": "@jupyter-widgets/controls",
            "_model_module_version": "1.5.0",
            "_view_count": null,
            "_view_module_version": "1.5.0",
            "box_style": "",
            "layout": "IPY_MODEL_55b576f3f4f24072816152acf6afe5d3",
            "_model_module": "@jupyter-widgets/controls",
            "children": [
              "IPY_MODEL_384904f42d904c2eba7b351eceb45daf",
              "IPY_MODEL_994e916f3aac4cb59aeeeb40d64957d8"
            ]
          }
        },
        "55b576f3f4f24072816152acf6afe5d3": {
          "model_module": "@jupyter-widgets/base",
          "model_name": "LayoutModel",
          "state": {
            "_view_name": "LayoutView",
            "grid_template_rows": null,
            "right": null,
            "justify_content": null,
            "_view_module": "@jupyter-widgets/base",
            "overflow": null,
            "_model_module_version": "1.2.0",
            "_view_count": null,
            "flex_flow": null,
            "width": null,
            "min_width": null,
            "border": null,
            "align_items": null,
            "bottom": null,
            "_model_module": "@jupyter-widgets/base",
            "top": null,
            "grid_column": null,
            "overflow_y": null,
            "overflow_x": null,
            "grid_auto_flow": null,
            "grid_area": null,
            "grid_template_columns": null,
            "flex": null,
            "_model_name": "LayoutModel",
            "justify_items": null,
            "grid_row": null,
            "max_height": null,
            "align_content": null,
            "visibility": null,
            "align_self": null,
            "height": null,
            "min_height": null,
            "padding": null,
            "grid_auto_rows": null,
            "grid_gap": null,
            "max_width": null,
            "order": null,
            "_view_module_version": "1.2.0",
            "grid_template_areas": null,
            "object_position": null,
            "object_fit": null,
            "grid_auto_columns": null,
            "margin": null,
            "display": null,
            "left": null
          }
        },
        "384904f42d904c2eba7b351eceb45daf": {
          "model_module": "@jupyter-widgets/controls",
          "model_name": "IntProgressModel",
          "state": {
            "_view_name": "ProgressView",
            "style": "IPY_MODEL_835d0c3f962d493bb88418639c6868c6",
            "_dom_classes": [],
            "description": "Dl Completed...: 100%",
            "_model_name": "IntProgressModel",
            "bar_style": "success",
            "max": 1,
            "_view_module": "@jupyter-widgets/controls",
            "_model_module_version": "1.5.0",
            "value": 1,
            "_view_count": null,
            "_view_module_version": "1.5.0",
            "orientation": "horizontal",
            "min": 0,
            "description_tooltip": null,
            "_model_module": "@jupyter-widgets/controls",
            "layout": "IPY_MODEL_3e018e91ccea40e180305408f90ebaec"
          }
        },
        "994e916f3aac4cb59aeeeb40d64957d8": {
          "model_module": "@jupyter-widgets/controls",
          "model_name": "HTMLModel",
          "state": {
            "_view_name": "HTMLView",
            "style": "IPY_MODEL_afee32edb27842dda89c024a7c59e1eb",
            "_dom_classes": [],
            "description": "",
            "_model_name": "HTMLModel",
            "placeholder": "​",
            "_view_module": "@jupyter-widgets/controls",
            "_model_module_version": "1.5.0",
            "value": " 1/1 [00:40&lt;00:00, 40.82s/ url]",
            "_view_count": null,
            "_view_module_version": "1.5.0",
            "description_tooltip": null,
            "_model_module": "@jupyter-widgets/controls",
            "layout": "IPY_MODEL_94c95d483df64746abf8594f0b910ea3"
          }
        },
        "835d0c3f962d493bb88418639c6868c6": {
          "model_module": "@jupyter-widgets/controls",
          "model_name": "ProgressStyleModel",
          "state": {
            "_view_name": "StyleView",
            "_model_name": "ProgressStyleModel",
            "description_width": "initial",
            "_view_module": "@jupyter-widgets/base",
            "_model_module_version": "1.5.0",
            "_view_count": null,
            "_view_module_version": "1.2.0",
            "bar_color": null,
            "_model_module": "@jupyter-widgets/controls"
          }
        },
        "3e018e91ccea40e180305408f90ebaec": {
          "model_module": "@jupyter-widgets/base",
          "model_name": "LayoutModel",
          "state": {
            "_view_name": "LayoutView",
            "grid_template_rows": null,
            "right": null,
            "justify_content": null,
            "_view_module": "@jupyter-widgets/base",
            "overflow": null,
            "_model_module_version": "1.2.0",
            "_view_count": null,
            "flex_flow": null,
            "width": null,
            "min_width": null,
            "border": null,
            "align_items": null,
            "bottom": null,
            "_model_module": "@jupyter-widgets/base",
            "top": null,
            "grid_column": null,
            "overflow_y": null,
            "overflow_x": null,
            "grid_auto_flow": null,
            "grid_area": null,
            "grid_template_columns": null,
            "flex": null,
            "_model_name": "LayoutModel",
            "justify_items": null,
            "grid_row": null,
            "max_height": null,
            "align_content": null,
            "visibility": null,
            "align_self": null,
            "height": null,
            "min_height": null,
            "padding": null,
            "grid_auto_rows": null,
            "grid_gap": null,
            "max_width": null,
            "order": null,
            "_view_module_version": "1.2.0",
            "grid_template_areas": null,
            "object_position": null,
            "object_fit": null,
            "grid_auto_columns": null,
            "margin": null,
            "display": null,
            "left": null
          }
        },
        "afee32edb27842dda89c024a7c59e1eb": {
          "model_module": "@jupyter-widgets/controls",
          "model_name": "DescriptionStyleModel",
          "state": {
            "_view_name": "StyleView",
            "_model_name": "DescriptionStyleModel",
            "description_width": "",
            "_view_module": "@jupyter-widgets/base",
            "_model_module_version": "1.5.0",
            "_view_count": null,
            "_view_module_version": "1.2.0",
            "_model_module": "@jupyter-widgets/controls"
          }
        },
        "94c95d483df64746abf8594f0b910ea3": {
          "model_module": "@jupyter-widgets/base",
          "model_name": "LayoutModel",
          "state": {
            "_view_name": "LayoutView",
            "grid_template_rows": null,
            "right": null,
            "justify_content": null,
            "_view_module": "@jupyter-widgets/base",
            "overflow": null,
            "_model_module_version": "1.2.0",
            "_view_count": null,
            "flex_flow": null,
            "width": null,
            "min_width": null,
            "border": null,
            "align_items": null,
            "bottom": null,
            "_model_module": "@jupyter-widgets/base",
            "top": null,
            "grid_column": null,
            "overflow_y": null,
            "overflow_x": null,
            "grid_auto_flow": null,
            "grid_area": null,
            "grid_template_columns": null,
            "flex": null,
            "_model_name": "LayoutModel",
            "justify_items": null,
            "grid_row": null,
            "max_height": null,
            "align_content": null,
            "visibility": null,
            "align_self": null,
            "height": null,
            "min_height": null,
            "padding": null,
            "grid_auto_rows": null,
            "grid_gap": null,
            "max_width": null,
            "order": null,
            "_view_module_version": "1.2.0",
            "grid_template_areas": null,
            "object_position": null,
            "object_fit": null,
            "grid_auto_columns": null,
            "margin": null,
            "display": null,
            "left": null
          }
        },
        "b332700e8db2412b9c0a740f10f76e30": {
          "model_module": "@jupyter-widgets/controls",
          "model_name": "HBoxModel",
          "state": {
            "_view_name": "HBoxView",
            "_dom_classes": [],
            "_model_name": "HBoxModel",
            "_view_module": "@jupyter-widgets/controls",
            "_model_module_version": "1.5.0",
            "_view_count": null,
            "_view_module_version": "1.5.0",
            "box_style": "",
            "layout": "IPY_MODEL_94b5c50f0843402d9d97cbfc3e2531aa",
            "_model_module": "@jupyter-widgets/controls",
            "children": [
              "IPY_MODEL_db3129e30fd845618a95a504d0583b95",
              "IPY_MODEL_5b56bb772ab94b7f880dc13dd2cfa724"
            ]
          }
        },
        "94b5c50f0843402d9d97cbfc3e2531aa": {
          "model_module": "@jupyter-widgets/base",
          "model_name": "LayoutModel",
          "state": {
            "_view_name": "LayoutView",
            "grid_template_rows": null,
            "right": null,
            "justify_content": null,
            "_view_module": "@jupyter-widgets/base",
            "overflow": null,
            "_model_module_version": "1.2.0",
            "_view_count": null,
            "flex_flow": null,
            "width": null,
            "min_width": null,
            "border": null,
            "align_items": null,
            "bottom": null,
            "_model_module": "@jupyter-widgets/base",
            "top": null,
            "grid_column": null,
            "overflow_y": null,
            "overflow_x": null,
            "grid_auto_flow": null,
            "grid_area": null,
            "grid_template_columns": null,
            "flex": null,
            "_model_name": "LayoutModel",
            "justify_items": null,
            "grid_row": null,
            "max_height": null,
            "align_content": null,
            "visibility": null,
            "align_self": null,
            "height": null,
            "min_height": null,
            "padding": null,
            "grid_auto_rows": null,
            "grid_gap": null,
            "max_width": null,
            "order": null,
            "_view_module_version": "1.2.0",
            "grid_template_areas": null,
            "object_position": null,
            "object_fit": null,
            "grid_auto_columns": null,
            "margin": null,
            "display": null,
            "left": null
          }
        },
        "db3129e30fd845618a95a504d0583b95": {
          "model_module": "@jupyter-widgets/controls",
          "model_name": "IntProgressModel",
          "state": {
            "_view_name": "ProgressView",
            "style": "IPY_MODEL_b04831fedb4b44dc99c8685109f4b49b",
            "_dom_classes": [],
            "description": "Dl Size...: 100%",
            "_model_name": "IntProgressModel",
            "bar_style": "success",
            "max": 1,
            "_view_module": "@jupyter-widgets/controls",
            "_model_module_version": "1.5.0",
            "value": 1,
            "_view_count": null,
            "_view_module_version": "1.5.0",
            "orientation": "horizontal",
            "min": 0,
            "description_tooltip": null,
            "_model_module": "@jupyter-widgets/controls",
            "layout": "IPY_MODEL_1e942cdec4a64978819a8d2620ba6f16"
          }
        },
        "5b56bb772ab94b7f880dc13dd2cfa724": {
          "model_module": "@jupyter-widgets/controls",
          "model_name": "HTMLModel",
          "state": {
            "_view_name": "HTMLView",
            "style": "IPY_MODEL_9c5c5815abf64e09a6c4578041ac24f0",
            "_dom_classes": [],
            "description": "",
            "_model_name": "HTMLModel",
            "placeholder": "​",
            "_view_module": "@jupyter-widgets/controls",
            "_model_module_version": "1.5.0",
            "value": " 535/535 [00:40&lt;00:00, 13.12 MiB/s]",
            "_view_count": null,
            "_view_module_version": "1.5.0",
            "description_tooltip": null,
            "_model_module": "@jupyter-widgets/controls",
            "layout": "IPY_MODEL_27ec0778bc4346a0abbd0d45b8323564"
          }
        },
        "b04831fedb4b44dc99c8685109f4b49b": {
          "model_module": "@jupyter-widgets/controls",
          "model_name": "ProgressStyleModel",
          "state": {
            "_view_name": "StyleView",
            "_model_name": "ProgressStyleModel",
            "description_width": "initial",
            "_view_module": "@jupyter-widgets/base",
            "_model_module_version": "1.5.0",
            "_view_count": null,
            "_view_module_version": "1.2.0",
            "bar_color": null,
            "_model_module": "@jupyter-widgets/controls"
          }
        },
        "1e942cdec4a64978819a8d2620ba6f16": {
          "model_module": "@jupyter-widgets/base",
          "model_name": "LayoutModel",
          "state": {
            "_view_name": "LayoutView",
            "grid_template_rows": null,
            "right": null,
            "justify_content": null,
            "_view_module": "@jupyter-widgets/base",
            "overflow": null,
            "_model_module_version": "1.2.0",
            "_view_count": null,
            "flex_flow": null,
            "width": null,
            "min_width": null,
            "border": null,
            "align_items": null,
            "bottom": null,
            "_model_module": "@jupyter-widgets/base",
            "top": null,
            "grid_column": null,
            "overflow_y": null,
            "overflow_x": null,
            "grid_auto_flow": null,
            "grid_area": null,
            "grid_template_columns": null,
            "flex": null,
            "_model_name": "LayoutModel",
            "justify_items": null,
            "grid_row": null,
            "max_height": null,
            "align_content": null,
            "visibility": null,
            "align_self": null,
            "height": null,
            "min_height": null,
            "padding": null,
            "grid_auto_rows": null,
            "grid_gap": null,
            "max_width": null,
            "order": null,
            "_view_module_version": "1.2.0",
            "grid_template_areas": null,
            "object_position": null,
            "object_fit": null,
            "grid_auto_columns": null,
            "margin": null,
            "display": null,
            "left": null
          }
        },
        "9c5c5815abf64e09a6c4578041ac24f0": {
          "model_module": "@jupyter-widgets/controls",
          "model_name": "DescriptionStyleModel",
          "state": {
            "_view_name": "StyleView",
            "_model_name": "DescriptionStyleModel",
            "description_width": "",
            "_view_module": "@jupyter-widgets/base",
            "_model_module_version": "1.5.0",
            "_view_count": null,
            "_view_module_version": "1.2.0",
            "_model_module": "@jupyter-widgets/controls"
          }
        },
        "27ec0778bc4346a0abbd0d45b8323564": {
          "model_module": "@jupyter-widgets/base",
          "model_name": "LayoutModel",
          "state": {
            "_view_name": "LayoutView",
            "grid_template_rows": null,
            "right": null,
            "justify_content": null,
            "_view_module": "@jupyter-widgets/base",
            "overflow": null,
            "_model_module_version": "1.2.0",
            "_view_count": null,
            "flex_flow": null,
            "width": null,
            "min_width": null,
            "border": null,
            "align_items": null,
            "bottom": null,
            "_model_module": "@jupyter-widgets/base",
            "top": null,
            "grid_column": null,
            "overflow_y": null,
            "overflow_x": null,
            "grid_auto_flow": null,
            "grid_area": null,
            "grid_template_columns": null,
            "flex": null,
            "_model_name": "LayoutModel",
            "justify_items": null,
            "grid_row": null,
            "max_height": null,
            "align_content": null,
            "visibility": null,
            "align_self": null,
            "height": null,
            "min_height": null,
            "padding": null,
            "grid_auto_rows": null,
            "grid_gap": null,
            "max_width": null,
            "order": null,
            "_view_module_version": "1.2.0",
            "grid_template_areas": null,
            "object_position": null,
            "object_fit": null,
            "grid_auto_columns": null,
            "margin": null,
            "display": null,
            "left": null
          }
        },
        "c8c8352f877e452cb03a7b5f4e86a56f": {
          "model_module": "@jupyter-widgets/controls",
          "model_name": "HBoxModel",
          "state": {
            "_view_name": "HBoxView",
            "_dom_classes": [],
            "_model_name": "HBoxModel",
            "_view_module": "@jupyter-widgets/controls",
            "_model_module_version": "1.5.0",
            "_view_count": null,
            "_view_module_version": "1.5.0",
            "box_style": "",
            "layout": "IPY_MODEL_50fd78a6c8b84ae09cf2e4ba61b6a3ef",
            "_model_module": "@jupyter-widgets/controls",
            "children": [
              "IPY_MODEL_d794328099404add9b35484200217a10",
              "IPY_MODEL_06cf2fdb5f21457db2353eb610f19433"
            ]
          }
        },
        "50fd78a6c8b84ae09cf2e4ba61b6a3ef": {
          "model_module": "@jupyter-widgets/base",
          "model_name": "LayoutModel",
          "state": {
            "_view_name": "LayoutView",
            "grid_template_rows": null,
            "right": null,
            "justify_content": null,
            "_view_module": "@jupyter-widgets/base",
            "overflow": null,
            "_model_module_version": "1.2.0",
            "_view_count": null,
            "flex_flow": null,
            "width": null,
            "min_width": null,
            "border": null,
            "align_items": null,
            "bottom": null,
            "_model_module": "@jupyter-widgets/base",
            "top": null,
            "grid_column": null,
            "overflow_y": null,
            "overflow_x": null,
            "grid_auto_flow": null,
            "grid_area": null,
            "grid_template_columns": null,
            "flex": null,
            "_model_name": "LayoutModel",
            "justify_items": null,
            "grid_row": null,
            "max_height": null,
            "align_content": null,
            "visibility": null,
            "align_self": null,
            "height": null,
            "min_height": null,
            "padding": null,
            "grid_auto_rows": null,
            "grid_gap": null,
            "max_width": null,
            "order": null,
            "_view_module_version": "1.2.0",
            "grid_template_areas": null,
            "object_position": null,
            "object_fit": null,
            "grid_auto_columns": null,
            "margin": null,
            "display": null,
            "left": null
          }
        },
        "d794328099404add9b35484200217a10": {
          "model_module": "@jupyter-widgets/controls",
          "model_name": "IntProgressModel",
          "state": {
            "_view_name": "ProgressView",
            "style": "IPY_MODEL_26a98ffa5822463280d98b3c6de7534b",
            "_dom_classes": [],
            "description": "Extraction completed...: 100%",
            "_model_name": "IntProgressModel",
            "bar_style": "success",
            "max": 1,
            "_view_module": "@jupyter-widgets/controls",
            "_model_module_version": "1.5.0",
            "value": 1,
            "_view_count": null,
            "_view_module_version": "1.5.0",
            "orientation": "horizontal",
            "min": 0,
            "description_tooltip": null,
            "_model_module": "@jupyter-widgets/controls",
            "layout": "IPY_MODEL_e0875a3c80b847fd95ebdaa7e4c98a2d"
          }
        },
        "06cf2fdb5f21457db2353eb610f19433": {
          "model_module": "@jupyter-widgets/controls",
          "model_name": "HTMLModel",
          "state": {
            "_view_name": "HTMLView",
            "style": "IPY_MODEL_0dd9fbf161b8493dbae73a9bf5545d81",
            "_dom_classes": [],
            "description": "",
            "_model_name": "HTMLModel",
            "placeholder": "​",
            "_view_module": "@jupyter-widgets/controls",
            "_model_module_version": "1.5.0",
            "value": " 1/1 [00:41&lt;00:00, 41.98s/ file]",
            "_view_count": null,
            "_view_module_version": "1.5.0",
            "description_tooltip": null,
            "_model_module": "@jupyter-widgets/controls",
            "layout": "IPY_MODEL_11c01d45e47b4d74a00db0780a3fbcb7"
          }
        },
        "26a98ffa5822463280d98b3c6de7534b": {
          "model_module": "@jupyter-widgets/controls",
          "model_name": "ProgressStyleModel",
          "state": {
            "_view_name": "StyleView",
            "_model_name": "ProgressStyleModel",
            "description_width": "initial",
            "_view_module": "@jupyter-widgets/base",
            "_model_module_version": "1.5.0",
            "_view_count": null,
            "_view_module_version": "1.2.0",
            "bar_color": null,
            "_model_module": "@jupyter-widgets/controls"
          }
        },
        "e0875a3c80b847fd95ebdaa7e4c98a2d": {
          "model_module": "@jupyter-widgets/base",
          "model_name": "LayoutModel",
          "state": {
            "_view_name": "LayoutView",
            "grid_template_rows": null,
            "right": null,
            "justify_content": null,
            "_view_module": "@jupyter-widgets/base",
            "overflow": null,
            "_model_module_version": "1.2.0",
            "_view_count": null,
            "flex_flow": null,
            "width": null,
            "min_width": null,
            "border": null,
            "align_items": null,
            "bottom": null,
            "_model_module": "@jupyter-widgets/base",
            "top": null,
            "grid_column": null,
            "overflow_y": null,
            "overflow_x": null,
            "grid_auto_flow": null,
            "grid_area": null,
            "grid_template_columns": null,
            "flex": null,
            "_model_name": "LayoutModel",
            "justify_items": null,
            "grid_row": null,
            "max_height": null,
            "align_content": null,
            "visibility": null,
            "align_self": null,
            "height": null,
            "min_height": null,
            "padding": null,
            "grid_auto_rows": null,
            "grid_gap": null,
            "max_width": null,
            "order": null,
            "_view_module_version": "1.2.0",
            "grid_template_areas": null,
            "object_position": null,
            "object_fit": null,
            "grid_auto_columns": null,
            "margin": null,
            "display": null,
            "left": null
          }
        },
        "0dd9fbf161b8493dbae73a9bf5545d81": {
          "model_module": "@jupyter-widgets/controls",
          "model_name": "DescriptionStyleModel",
          "state": {
            "_view_name": "StyleView",
            "_model_name": "DescriptionStyleModel",
            "description_width": "",
            "_view_module": "@jupyter-widgets/base",
            "_model_module_version": "1.5.0",
            "_view_count": null,
            "_view_module_version": "1.2.0",
            "_model_module": "@jupyter-widgets/controls"
          }
        },
        "11c01d45e47b4d74a00db0780a3fbcb7": {
          "model_module": "@jupyter-widgets/base",
          "model_name": "LayoutModel",
          "state": {
            "_view_name": "LayoutView",
            "grid_template_rows": null,
            "right": null,
            "justify_content": null,
            "_view_module": "@jupyter-widgets/base",
            "overflow": null,
            "_model_module_version": "1.2.0",
            "_view_count": null,
            "flex_flow": null,
            "width": null,
            "min_width": null,
            "border": null,
            "align_items": null,
            "bottom": null,
            "_model_module": "@jupyter-widgets/base",
            "top": null,
            "grid_column": null,
            "overflow_y": null,
            "overflow_x": null,
            "grid_auto_flow": null,
            "grid_area": null,
            "grid_template_columns": null,
            "flex": null,
            "_model_name": "LayoutModel",
            "justify_items": null,
            "grid_row": null,
            "max_height": null,
            "align_content": null,
            "visibility": null,
            "align_self": null,
            "height": null,
            "min_height": null,
            "padding": null,
            "grid_auto_rows": null,
            "grid_gap": null,
            "max_width": null,
            "order": null,
            "_view_module_version": "1.2.0",
            "grid_template_areas": null,
            "object_position": null,
            "object_fit": null,
            "grid_auto_columns": null,
            "margin": null,
            "display": null,
            "left": null
          }
        },
        "2400d1a49167400facd47a6b5f480be9": {
          "model_module": "@jupyter-widgets/controls",
          "model_name": "HBoxModel",
          "state": {
            "_view_name": "HBoxView",
            "_dom_classes": [],
            "_model_name": "HBoxModel",
            "_view_module": "@jupyter-widgets/controls",
            "_model_module_version": "1.5.0",
            "_view_count": null,
            "_view_module_version": "1.5.0",
            "box_style": "",
            "layout": "IPY_MODEL_06f7c7fc3f3d43d9b3ea365de57df9a7",
            "_model_module": "@jupyter-widgets/controls",
            "children": [
              "IPY_MODEL_d4acb42480d34766a22738f2938a617e",
              "IPY_MODEL_8ba840a73e234340a08ea64c9a5c1008"
            ]
          }
        },
        "06f7c7fc3f3d43d9b3ea365de57df9a7": {
          "model_module": "@jupyter-widgets/base",
          "model_name": "LayoutModel",
          "state": {
            "_view_name": "LayoutView",
            "grid_template_rows": null,
            "right": null,
            "justify_content": null,
            "_view_module": "@jupyter-widgets/base",
            "overflow": null,
            "_model_module_version": "1.2.0",
            "_view_count": null,
            "flex_flow": null,
            "width": null,
            "min_width": null,
            "border": null,
            "align_items": null,
            "bottom": null,
            "_model_module": "@jupyter-widgets/base",
            "top": null,
            "grid_column": null,
            "overflow_y": null,
            "overflow_x": null,
            "grid_auto_flow": null,
            "grid_area": null,
            "grid_template_columns": null,
            "flex": null,
            "_model_name": "LayoutModel",
            "justify_items": null,
            "grid_row": null,
            "max_height": null,
            "align_content": null,
            "visibility": null,
            "align_self": null,
            "height": null,
            "min_height": null,
            "padding": null,
            "grid_auto_rows": null,
            "grid_gap": null,
            "max_width": null,
            "order": null,
            "_view_module_version": "1.2.0",
            "grid_template_areas": null,
            "object_position": null,
            "object_fit": null,
            "grid_auto_columns": null,
            "margin": null,
            "display": null,
            "left": null
          }
        },
        "d4acb42480d34766a22738f2938a617e": {
          "model_module": "@jupyter-widgets/controls",
          "model_name": "IntProgressModel",
          "state": {
            "_view_name": "ProgressView",
            "style": "IPY_MODEL_adbac6c5b88444188510508af4aeb4ee",
            "_dom_classes": [],
            "description": "Extraction completed...: 100%",
            "_model_name": "IntProgressModel",
            "bar_style": "success",
            "max": 1,
            "_view_module": "@jupyter-widgets/controls",
            "_model_module_version": "1.5.0",
            "value": 1,
            "_view_count": null,
            "_view_module_version": "1.5.0",
            "orientation": "horizontal",
            "min": 0,
            "description_tooltip": null,
            "_model_module": "@jupyter-widgets/controls",
            "layout": "IPY_MODEL_3071955372e34d3fbcd6f1743226e94c"
          }
        },
        "8ba840a73e234340a08ea64c9a5c1008": {
          "model_module": "@jupyter-widgets/controls",
          "model_name": "HTMLModel",
          "state": {
            "_view_name": "HTMLView",
            "style": "IPY_MODEL_d9d2991789a34ce5b75b1effa056db14",
            "_dom_classes": [],
            "description": "",
            "_model_name": "HTMLModel",
            "placeholder": "​",
            "_view_module": "@jupyter-widgets/controls",
            "_model_module_version": "1.5.0",
            "value": " 4/4 [00:01&lt;00:00,  3.93 file/s]",
            "_view_count": null,
            "_view_module_version": "1.5.0",
            "description_tooltip": null,
            "_model_module": "@jupyter-widgets/controls",
            "layout": "IPY_MODEL_22913cc5a70c46e6b35a8d295b9780c9"
          }
        },
        "adbac6c5b88444188510508af4aeb4ee": {
          "model_module": "@jupyter-widgets/controls",
          "model_name": "ProgressStyleModel",
          "state": {
            "_view_name": "StyleView",
            "_model_name": "ProgressStyleModel",
            "description_width": "initial",
            "_view_module": "@jupyter-widgets/base",
            "_model_module_version": "1.5.0",
            "_view_count": null,
            "_view_module_version": "1.2.0",
            "bar_color": null,
            "_model_module": "@jupyter-widgets/controls"
          }
        },
        "3071955372e34d3fbcd6f1743226e94c": {
          "model_module": "@jupyter-widgets/base",
          "model_name": "LayoutModel",
          "state": {
            "_view_name": "LayoutView",
            "grid_template_rows": null,
            "right": null,
            "justify_content": null,
            "_view_module": "@jupyter-widgets/base",
            "overflow": null,
            "_model_module_version": "1.2.0",
            "_view_count": null,
            "flex_flow": null,
            "width": null,
            "min_width": null,
            "border": null,
            "align_items": null,
            "bottom": null,
            "_model_module": "@jupyter-widgets/base",
            "top": null,
            "grid_column": null,
            "overflow_y": null,
            "overflow_x": null,
            "grid_auto_flow": null,
            "grid_area": null,
            "grid_template_columns": null,
            "flex": null,
            "_model_name": "LayoutModel",
            "justify_items": null,
            "grid_row": null,
            "max_height": null,
            "align_content": null,
            "visibility": null,
            "align_self": null,
            "height": null,
            "min_height": null,
            "padding": null,
            "grid_auto_rows": null,
            "grid_gap": null,
            "max_width": null,
            "order": null,
            "_view_module_version": "1.2.0",
            "grid_template_areas": null,
            "object_position": null,
            "object_fit": null,
            "grid_auto_columns": null,
            "margin": null,
            "display": null,
            "left": null
          }
        },
        "d9d2991789a34ce5b75b1effa056db14": {
          "model_module": "@jupyter-widgets/controls",
          "model_name": "DescriptionStyleModel",
          "state": {
            "_view_name": "StyleView",
            "_model_name": "DescriptionStyleModel",
            "description_width": "",
            "_view_module": "@jupyter-widgets/base",
            "_model_module_version": "1.5.0",
            "_view_count": null,
            "_view_module_version": "1.2.0",
            "_model_module": "@jupyter-widgets/controls"
          }
        },
        "22913cc5a70c46e6b35a8d295b9780c9": {
          "model_module": "@jupyter-widgets/base",
          "model_name": "LayoutModel",
          "state": {
            "_view_name": "LayoutView",
            "grid_template_rows": null,
            "right": null,
            "justify_content": null,
            "_view_module": "@jupyter-widgets/base",
            "overflow": null,
            "_model_module_version": "1.2.0",
            "_view_count": null,
            "flex_flow": null,
            "width": null,
            "min_width": null,
            "border": null,
            "align_items": null,
            "bottom": null,
            "_model_module": "@jupyter-widgets/base",
            "top": null,
            "grid_column": null,
            "overflow_y": null,
            "overflow_x": null,
            "grid_auto_flow": null,
            "grid_area": null,
            "grid_template_columns": null,
            "flex": null,
            "_model_name": "LayoutModel",
            "justify_items": null,
            "grid_row": null,
            "max_height": null,
            "align_content": null,
            "visibility": null,
            "align_self": null,
            "height": null,
            "min_height": null,
            "padding": null,
            "grid_auto_rows": null,
            "grid_gap": null,
            "max_width": null,
            "order": null,
            "_view_module_version": "1.2.0",
            "grid_template_areas": null,
            "object_position": null,
            "object_fit": null,
            "grid_auto_columns": null,
            "margin": null,
            "display": null,
            "left": null
          }
        },
        "139b765ce9a34b9094c25606e72927b7": {
          "model_module": "@jupyter-widgets/controls",
          "model_name": "HBoxModel",
          "state": {
            "_view_name": "HBoxView",
            "_dom_classes": [],
            "_model_name": "HBoxModel",
            "_view_module": "@jupyter-widgets/controls",
            "_model_module_version": "1.5.0",
            "_view_count": null,
            "_view_module_version": "1.5.0",
            "box_style": "",
            "layout": "IPY_MODEL_b1f5354604e945e3babb9399defef013",
            "_model_module": "@jupyter-widgets/controls",
            "children": [
              "IPY_MODEL_0fff09afa9224fc389a4c748549489bd",
              "IPY_MODEL_6ef1b3c2dcbc47f09741bcc4541cc189"
            ]
          }
        },
        "b1f5354604e945e3babb9399defef013": {
          "model_module": "@jupyter-widgets/base",
          "model_name": "LayoutModel",
          "state": {
            "_view_name": "LayoutView",
            "grid_template_rows": null,
            "right": null,
            "justify_content": null,
            "_view_module": "@jupyter-widgets/base",
            "overflow": null,
            "_model_module_version": "1.2.0",
            "_view_count": null,
            "flex_flow": null,
            "width": null,
            "min_width": null,
            "border": null,
            "align_items": null,
            "bottom": null,
            "_model_module": "@jupyter-widgets/base",
            "top": null,
            "grid_column": null,
            "overflow_y": null,
            "overflow_x": null,
            "grid_auto_flow": null,
            "grid_area": null,
            "grid_template_columns": null,
            "flex": null,
            "_model_name": "LayoutModel",
            "justify_items": null,
            "grid_row": null,
            "max_height": null,
            "align_content": null,
            "visibility": null,
            "align_self": null,
            "height": null,
            "min_height": null,
            "padding": null,
            "grid_auto_rows": null,
            "grid_gap": null,
            "max_width": null,
            "order": null,
            "_view_module_version": "1.2.0",
            "grid_template_areas": null,
            "object_position": null,
            "object_fit": null,
            "grid_auto_columns": null,
            "margin": null,
            "display": null,
            "left": null
          }
        },
        "0fff09afa9224fc389a4c748549489bd": {
          "model_module": "@jupyter-widgets/controls",
          "model_name": "IntProgressModel",
          "state": {
            "_view_name": "ProgressView",
            "style": "IPY_MODEL_75da48ee40604f778f25cc4320465e7d",
            "_dom_classes": [],
            "description": "",
            "_model_name": "IntProgressModel",
            "bar_style": "info",
            "max": 1,
            "_view_module": "@jupyter-widgets/controls",
            "_model_module_version": "1.5.0",
            "value": 1,
            "_view_count": null,
            "_view_module_version": "1.5.0",
            "orientation": "horizontal",
            "min": 0,
            "description_tooltip": null,
            "_model_module": "@jupyter-widgets/controls",
            "layout": "IPY_MODEL_3e1d152287a34ce0a7bf62afd91370ee"
          }
        },
        "6ef1b3c2dcbc47f09741bcc4541cc189": {
          "model_module": "@jupyter-widgets/controls",
          "model_name": "HTMLModel",
          "state": {
            "_view_name": "HTMLView",
            "style": "IPY_MODEL_aa9e231637394a5aa3c28db459020075",
            "_dom_classes": [],
            "description": "",
            "_model_name": "HTMLModel",
            "placeholder": "​",
            "_view_module": "@jupyter-widgets/controls",
            "_model_module_version": "1.5.0",
            "value": " 88800/0 [00:33&lt;00:00, 2676.29 examples/s]",
            "_view_count": null,
            "_view_module_version": "1.5.0",
            "description_tooltip": null,
            "_model_module": "@jupyter-widgets/controls",
            "layout": "IPY_MODEL_2bfd15a39d364f6e85caf2c750f85d12"
          }
        },
        "75da48ee40604f778f25cc4320465e7d": {
          "model_module": "@jupyter-widgets/controls",
          "model_name": "ProgressStyleModel",
          "state": {
            "_view_name": "StyleView",
            "_model_name": "ProgressStyleModel",
            "description_width": "initial",
            "_view_module": "@jupyter-widgets/base",
            "_model_module_version": "1.5.0",
            "_view_count": null,
            "_view_module_version": "1.2.0",
            "bar_color": null,
            "_model_module": "@jupyter-widgets/controls"
          }
        },
        "3e1d152287a34ce0a7bf62afd91370ee": {
          "model_module": "@jupyter-widgets/base",
          "model_name": "LayoutModel",
          "state": {
            "_view_name": "LayoutView",
            "grid_template_rows": null,
            "right": null,
            "justify_content": null,
            "_view_module": "@jupyter-widgets/base",
            "overflow": null,
            "_model_module_version": "1.2.0",
            "_view_count": null,
            "flex_flow": null,
            "width": null,
            "min_width": null,
            "border": null,
            "align_items": null,
            "bottom": null,
            "_model_module": "@jupyter-widgets/base",
            "top": null,
            "grid_column": null,
            "overflow_y": null,
            "overflow_x": null,
            "grid_auto_flow": null,
            "grid_area": null,
            "grid_template_columns": null,
            "flex": null,
            "_model_name": "LayoutModel",
            "justify_items": null,
            "grid_row": null,
            "max_height": null,
            "align_content": null,
            "visibility": null,
            "align_self": null,
            "height": null,
            "min_height": null,
            "padding": null,
            "grid_auto_rows": null,
            "grid_gap": null,
            "max_width": null,
            "order": null,
            "_view_module_version": "1.2.0",
            "grid_template_areas": null,
            "object_position": null,
            "object_fit": null,
            "grid_auto_columns": null,
            "margin": null,
            "display": null,
            "left": null
          }
        },
        "aa9e231637394a5aa3c28db459020075": {
          "model_module": "@jupyter-widgets/controls",
          "model_name": "DescriptionStyleModel",
          "state": {
            "_view_name": "StyleView",
            "_model_name": "DescriptionStyleModel",
            "description_width": "",
            "_view_module": "@jupyter-widgets/base",
            "_model_module_version": "1.5.0",
            "_view_count": null,
            "_view_module_version": "1.2.0",
            "_model_module": "@jupyter-widgets/controls"
          }
        },
        "2bfd15a39d364f6e85caf2c750f85d12": {
          "model_module": "@jupyter-widgets/base",
          "model_name": "LayoutModel",
          "state": {
            "_view_name": "LayoutView",
            "grid_template_rows": null,
            "right": null,
            "justify_content": null,
            "_view_module": "@jupyter-widgets/base",
            "overflow": null,
            "_model_module_version": "1.2.0",
            "_view_count": null,
            "flex_flow": null,
            "width": null,
            "min_width": null,
            "border": null,
            "align_items": null,
            "bottom": null,
            "_model_module": "@jupyter-widgets/base",
            "top": null,
            "grid_column": null,
            "overflow_y": null,
            "overflow_x": null,
            "grid_auto_flow": null,
            "grid_area": null,
            "grid_template_columns": null,
            "flex": null,
            "_model_name": "LayoutModel",
            "justify_items": null,
            "grid_row": null,
            "max_height": null,
            "align_content": null,
            "visibility": null,
            "align_self": null,
            "height": null,
            "min_height": null,
            "padding": null,
            "grid_auto_rows": null,
            "grid_gap": null,
            "max_width": null,
            "order": null,
            "_view_module_version": "1.2.0",
            "grid_template_areas": null,
            "object_position": null,
            "object_fit": null,
            "grid_auto_columns": null,
            "margin": null,
            "display": null,
            "left": null
          }
        },
        "79585cabb8dc4974a99efc021841c2df": {
          "model_module": "@jupyter-widgets/controls",
          "model_name": "HBoxModel",
          "state": {
            "_view_name": "HBoxView",
            "_dom_classes": [],
            "_model_name": "HBoxModel",
            "_view_module": "@jupyter-widgets/controls",
            "_model_module_version": "1.5.0",
            "_view_count": null,
            "_view_module_version": "1.5.0",
            "box_style": "",
            "layout": "IPY_MODEL_5c4a0c6190d3438787dd684ebf8945d2",
            "_model_module": "@jupyter-widgets/controls",
            "children": [
              "IPY_MODEL_c911119cdb80497f88a5fff7869b1116",
              "IPY_MODEL_f00b42d92844411aa041ee37201c409d"
            ]
          }
        },
        "5c4a0c6190d3438787dd684ebf8945d2": {
          "model_module": "@jupyter-widgets/base",
          "model_name": "LayoutModel",
          "state": {
            "_view_name": "LayoutView",
            "grid_template_rows": null,
            "right": null,
            "justify_content": null,
            "_view_module": "@jupyter-widgets/base",
            "overflow": null,
            "_model_module_version": "1.2.0",
            "_view_count": null,
            "flex_flow": null,
            "width": null,
            "min_width": null,
            "border": null,
            "align_items": null,
            "bottom": null,
            "_model_module": "@jupyter-widgets/base",
            "top": null,
            "grid_column": null,
            "overflow_y": null,
            "overflow_x": null,
            "grid_auto_flow": null,
            "grid_area": null,
            "grid_template_columns": null,
            "flex": null,
            "_model_name": "LayoutModel",
            "justify_items": null,
            "grid_row": null,
            "max_height": null,
            "align_content": null,
            "visibility": null,
            "align_self": null,
            "height": null,
            "min_height": null,
            "padding": null,
            "grid_auto_rows": null,
            "grid_gap": null,
            "max_width": null,
            "order": null,
            "_view_module_version": "1.2.0",
            "grid_template_areas": null,
            "object_position": null,
            "object_fit": null,
            "grid_auto_columns": null,
            "margin": null,
            "display": null,
            "left": null
          }
        },
        "c911119cdb80497f88a5fff7869b1116": {
          "model_module": "@jupyter-widgets/controls",
          "model_name": "IntProgressModel",
          "state": {
            "_view_name": "ProgressView",
            "style": "IPY_MODEL_850dce7098334276b8ea8d08a38294b2",
            "_dom_classes": [],
            "description": " 91%",
            "_model_name": "IntProgressModel",
            "bar_style": "danger",
            "max": 88800,
            "_view_module": "@jupyter-widgets/controls",
            "_model_module_version": "1.5.0",
            "value": 80428,
            "_view_count": null,
            "_view_module_version": "1.5.0",
            "orientation": "horizontal",
            "min": 0,
            "description_tooltip": null,
            "_model_module": "@jupyter-widgets/controls",
            "layout": "IPY_MODEL_5901879f96664ee5a243e4514304cb92"
          }
        },
        "f00b42d92844411aa041ee37201c409d": {
          "model_module": "@jupyter-widgets/controls",
          "model_name": "HTMLModel",
          "state": {
            "_view_name": "HTMLView",
            "style": "IPY_MODEL_2e3194a29faa46e09287f88ab9d62973",
            "_dom_classes": [],
            "description": "",
            "_model_name": "HTMLModel",
            "placeholder": "​",
            "_view_module": "@jupyter-widgets/controls",
            "_model_module_version": "1.5.0",
            "value": " 80428/88800 [00:00&lt;07:49, 17.83 examples/s]",
            "_view_count": null,
            "_view_module_version": "1.5.0",
            "description_tooltip": null,
            "_model_module": "@jupyter-widgets/controls",
            "layout": "IPY_MODEL_71e19856132a41b09d449c57264cf1e3"
          }
        },
        "850dce7098334276b8ea8d08a38294b2": {
          "model_module": "@jupyter-widgets/controls",
          "model_name": "ProgressStyleModel",
          "state": {
            "_view_name": "StyleView",
            "_model_name": "ProgressStyleModel",
            "description_width": "initial",
            "_view_module": "@jupyter-widgets/base",
            "_model_module_version": "1.5.0",
            "_view_count": null,
            "_view_module_version": "1.2.0",
            "bar_color": null,
            "_model_module": "@jupyter-widgets/controls"
          }
        },
        "5901879f96664ee5a243e4514304cb92": {
          "model_module": "@jupyter-widgets/base",
          "model_name": "LayoutModel",
          "state": {
            "_view_name": "LayoutView",
            "grid_template_rows": null,
            "right": null,
            "justify_content": null,
            "_view_module": "@jupyter-widgets/base",
            "overflow": null,
            "_model_module_version": "1.2.0",
            "_view_count": null,
            "flex_flow": null,
            "width": null,
            "min_width": null,
            "border": null,
            "align_items": null,
            "bottom": null,
            "_model_module": "@jupyter-widgets/base",
            "top": null,
            "grid_column": null,
            "overflow_y": null,
            "overflow_x": null,
            "grid_auto_flow": null,
            "grid_area": null,
            "grid_template_columns": null,
            "flex": null,
            "_model_name": "LayoutModel",
            "justify_items": null,
            "grid_row": null,
            "max_height": null,
            "align_content": null,
            "visibility": null,
            "align_self": null,
            "height": null,
            "min_height": null,
            "padding": null,
            "grid_auto_rows": null,
            "grid_gap": null,
            "max_width": null,
            "order": null,
            "_view_module_version": "1.2.0",
            "grid_template_areas": null,
            "object_position": null,
            "object_fit": null,
            "grid_auto_columns": null,
            "margin": null,
            "display": null,
            "left": null
          }
        },
        "2e3194a29faa46e09287f88ab9d62973": {
          "model_module": "@jupyter-widgets/controls",
          "model_name": "DescriptionStyleModel",
          "state": {
            "_view_name": "StyleView",
            "_model_name": "DescriptionStyleModel",
            "description_width": "",
            "_view_module": "@jupyter-widgets/base",
            "_model_module_version": "1.5.0",
            "_view_count": null,
            "_view_module_version": "1.2.0",
            "_model_module": "@jupyter-widgets/controls"
          }
        },
        "71e19856132a41b09d449c57264cf1e3": {
          "model_module": "@jupyter-widgets/base",
          "model_name": "LayoutModel",
          "state": {
            "_view_name": "LayoutView",
            "grid_template_rows": null,
            "right": null,
            "justify_content": null,
            "_view_module": "@jupyter-widgets/base",
            "overflow": null,
            "_model_module_version": "1.2.0",
            "_view_count": null,
            "flex_flow": null,
            "width": null,
            "min_width": null,
            "border": null,
            "align_items": null,
            "bottom": null,
            "_model_module": "@jupyter-widgets/base",
            "top": null,
            "grid_column": null,
            "overflow_y": null,
            "overflow_x": null,
            "grid_auto_flow": null,
            "grid_area": null,
            "grid_template_columns": null,
            "flex": null,
            "_model_name": "LayoutModel",
            "justify_items": null,
            "grid_row": null,
            "max_height": null,
            "align_content": null,
            "visibility": null,
            "align_self": null,
            "height": null,
            "min_height": null,
            "padding": null,
            "grid_auto_rows": null,
            "grid_gap": null,
            "max_width": null,
            "order": null,
            "_view_module_version": "1.2.0",
            "grid_template_areas": null,
            "object_position": null,
            "object_fit": null,
            "grid_auto_columns": null,
            "margin": null,
            "display": null,
            "left": null
          }
        },
        "4240ebcd96e5408da91102a19987c00c": {
          "model_module": "@jupyter-widgets/controls",
          "model_name": "HBoxModel",
          "state": {
            "_view_name": "HBoxView",
            "_dom_classes": [],
            "_model_name": "HBoxModel",
            "_view_module": "@jupyter-widgets/controls",
            "_model_module_version": "1.5.0",
            "_view_count": null,
            "_view_module_version": "1.5.0",
            "box_style": "",
            "layout": "IPY_MODEL_d84210751c3e42a8a4244b75cfa2bbf5",
            "_model_module": "@jupyter-widgets/controls",
            "children": [
              "IPY_MODEL_e22b294345de4ade89570f667d5c3973",
              "IPY_MODEL_a8bc3f0727c8473998e0a7290d10ad49"
            ]
          }
        },
        "d84210751c3e42a8a4244b75cfa2bbf5": {
          "model_module": "@jupyter-widgets/base",
          "model_name": "LayoutModel",
          "state": {
            "_view_name": "LayoutView",
            "grid_template_rows": null,
            "right": null,
            "justify_content": null,
            "_view_module": "@jupyter-widgets/base",
            "overflow": null,
            "_model_module_version": "1.2.0",
            "_view_count": null,
            "flex_flow": null,
            "width": null,
            "min_width": null,
            "border": null,
            "align_items": null,
            "bottom": null,
            "_model_module": "@jupyter-widgets/base",
            "top": null,
            "grid_column": null,
            "overflow_y": null,
            "overflow_x": null,
            "grid_auto_flow": null,
            "grid_area": null,
            "grid_template_columns": null,
            "flex": null,
            "_model_name": "LayoutModel",
            "justify_items": null,
            "grid_row": null,
            "max_height": null,
            "align_content": null,
            "visibility": null,
            "align_self": null,
            "height": null,
            "min_height": null,
            "padding": null,
            "grid_auto_rows": null,
            "grid_gap": null,
            "max_width": null,
            "order": null,
            "_view_module_version": "1.2.0",
            "grid_template_areas": null,
            "object_position": null,
            "object_fit": null,
            "grid_auto_columns": null,
            "margin": null,
            "display": null,
            "left": null
          }
        },
        "e22b294345de4ade89570f667d5c3973": {
          "model_module": "@jupyter-widgets/controls",
          "model_name": "IntProgressModel",
          "state": {
            "_view_name": "ProgressView",
            "style": "IPY_MODEL_e38ac958e7eb4538b549a689e14be64d",
            "_dom_classes": [],
            "description": "",
            "_model_name": "IntProgressModel",
            "bar_style": "info",
            "max": 1,
            "_view_module": "@jupyter-widgets/controls",
            "_model_module_version": "1.5.0",
            "value": 1,
            "_view_count": null,
            "_view_module_version": "1.5.0",
            "orientation": "horizontal",
            "min": 0,
            "description_tooltip": null,
            "_model_module": "@jupyter-widgets/controls",
            "layout": "IPY_MODEL_4629d4cb159246be86569421fda69ebb"
          }
        },
        "a8bc3f0727c8473998e0a7290d10ad49": {
          "model_module": "@jupyter-widgets/controls",
          "model_name": "HTMLModel",
          "state": {
            "_view_name": "HTMLView",
            "style": "IPY_MODEL_ccfd7d499df9437e91468e54dca02394",
            "_dom_classes": [],
            "description": "",
            "_model_name": "HTMLModel",
            "placeholder": "​",
            "_view_module": "@jupyter-widgets/controls",
            "_model_module_version": "1.5.0",
            "value": " 14800/0 [00:05&lt;00:00, 2727.90 examples/s]",
            "_view_count": null,
            "_view_module_version": "1.5.0",
            "description_tooltip": null,
            "_model_module": "@jupyter-widgets/controls",
            "layout": "IPY_MODEL_0201addc2fde4ab2b189ed57e1392d02"
          }
        },
        "e38ac958e7eb4538b549a689e14be64d": {
          "model_module": "@jupyter-widgets/controls",
          "model_name": "ProgressStyleModel",
          "state": {
            "_view_name": "StyleView",
            "_model_name": "ProgressStyleModel",
            "description_width": "initial",
            "_view_module": "@jupyter-widgets/base",
            "_model_module_version": "1.5.0",
            "_view_count": null,
            "_view_module_version": "1.2.0",
            "bar_color": null,
            "_model_module": "@jupyter-widgets/controls"
          }
        },
        "4629d4cb159246be86569421fda69ebb": {
          "model_module": "@jupyter-widgets/base",
          "model_name": "LayoutModel",
          "state": {
            "_view_name": "LayoutView",
            "grid_template_rows": null,
            "right": null,
            "justify_content": null,
            "_view_module": "@jupyter-widgets/base",
            "overflow": null,
            "_model_module_version": "1.2.0",
            "_view_count": null,
            "flex_flow": null,
            "width": null,
            "min_width": null,
            "border": null,
            "align_items": null,
            "bottom": null,
            "_model_module": "@jupyter-widgets/base",
            "top": null,
            "grid_column": null,
            "overflow_y": null,
            "overflow_x": null,
            "grid_auto_flow": null,
            "grid_area": null,
            "grid_template_columns": null,
            "flex": null,
            "_model_name": "LayoutModel",
            "justify_items": null,
            "grid_row": null,
            "max_height": null,
            "align_content": null,
            "visibility": null,
            "align_self": null,
            "height": null,
            "min_height": null,
            "padding": null,
            "grid_auto_rows": null,
            "grid_gap": null,
            "max_width": null,
            "order": null,
            "_view_module_version": "1.2.0",
            "grid_template_areas": null,
            "object_position": null,
            "object_fit": null,
            "grid_auto_columns": null,
            "margin": null,
            "display": null,
            "left": null
          }
        },
        "ccfd7d499df9437e91468e54dca02394": {
          "model_module": "@jupyter-widgets/controls",
          "model_name": "DescriptionStyleModel",
          "state": {
            "_view_name": "StyleView",
            "_model_name": "DescriptionStyleModel",
            "description_width": "",
            "_view_module": "@jupyter-widgets/base",
            "_model_module_version": "1.5.0",
            "_view_count": null,
            "_view_module_version": "1.2.0",
            "_model_module": "@jupyter-widgets/controls"
          }
        },
        "0201addc2fde4ab2b189ed57e1392d02": {
          "model_module": "@jupyter-widgets/base",
          "model_name": "LayoutModel",
          "state": {
            "_view_name": "LayoutView",
            "grid_template_rows": null,
            "right": null,
            "justify_content": null,
            "_view_module": "@jupyter-widgets/base",
            "overflow": null,
            "_model_module_version": "1.2.0",
            "_view_count": null,
            "flex_flow": null,
            "width": null,
            "min_width": null,
            "border": null,
            "align_items": null,
            "bottom": null,
            "_model_module": "@jupyter-widgets/base",
            "top": null,
            "grid_column": null,
            "overflow_y": null,
            "overflow_x": null,
            "grid_auto_flow": null,
            "grid_area": null,
            "grid_template_columns": null,
            "flex": null,
            "_model_name": "LayoutModel",
            "justify_items": null,
            "grid_row": null,
            "max_height": null,
            "align_content": null,
            "visibility": null,
            "align_self": null,
            "height": null,
            "min_height": null,
            "padding": null,
            "grid_auto_rows": null,
            "grid_gap": null,
            "max_width": null,
            "order": null,
            "_view_module_version": "1.2.0",
            "grid_template_areas": null,
            "object_position": null,
            "object_fit": null,
            "grid_auto_columns": null,
            "margin": null,
            "display": null,
            "left": null
          }
        },
        "4c3ae8a946c24ad9a372e0feabe5ad1b": {
          "model_module": "@jupyter-widgets/controls",
          "model_name": "HBoxModel",
          "state": {
            "_view_name": "HBoxView",
            "_dom_classes": [],
            "_model_name": "HBoxModel",
            "_view_module": "@jupyter-widgets/controls",
            "_model_module_version": "1.5.0",
            "_view_count": null,
            "_view_module_version": "1.5.0",
            "box_style": "",
            "layout": "IPY_MODEL_7c9e1f4590384df192f5b543d6d6fa9b",
            "_model_module": "@jupyter-widgets/controls",
            "children": [
              "IPY_MODEL_ef67967ab329450f952c24d31c5c2c3e",
              "IPY_MODEL_124db919527243bbabdfb571afed8f8e"
            ]
          }
        },
        "7c9e1f4590384df192f5b543d6d6fa9b": {
          "model_module": "@jupyter-widgets/base",
          "model_name": "LayoutModel",
          "state": {
            "_view_name": "LayoutView",
            "grid_template_rows": null,
            "right": null,
            "justify_content": null,
            "_view_module": "@jupyter-widgets/base",
            "overflow": null,
            "_model_module_version": "1.2.0",
            "_view_count": null,
            "flex_flow": null,
            "width": null,
            "min_width": null,
            "border": null,
            "align_items": null,
            "bottom": null,
            "_model_module": "@jupyter-widgets/base",
            "top": null,
            "grid_column": null,
            "overflow_y": null,
            "overflow_x": null,
            "grid_auto_flow": null,
            "grid_area": null,
            "grid_template_columns": null,
            "flex": null,
            "_model_name": "LayoutModel",
            "justify_items": null,
            "grid_row": null,
            "max_height": null,
            "align_content": null,
            "visibility": null,
            "align_self": null,
            "height": null,
            "min_height": null,
            "padding": null,
            "grid_auto_rows": null,
            "grid_gap": null,
            "max_width": null,
            "order": null,
            "_view_module_version": "1.2.0",
            "grid_template_areas": null,
            "object_position": null,
            "object_fit": null,
            "grid_auto_columns": null,
            "margin": null,
            "display": null,
            "left": null
          }
        },
        "ef67967ab329450f952c24d31c5c2c3e": {
          "model_module": "@jupyter-widgets/controls",
          "model_name": "IntProgressModel",
          "state": {
            "_view_name": "ProgressView",
            "style": "IPY_MODEL_873e252ae0a04c669abb5445578030b4",
            "_dom_classes": [],
            "description": "  0%",
            "_model_name": "IntProgressModel",
            "bar_style": "danger",
            "max": 14800,
            "_view_module": "@jupyter-widgets/controls",
            "_model_module_version": "1.5.0",
            "value": 0,
            "_view_count": null,
            "_view_module_version": "1.5.0",
            "orientation": "horizontal",
            "min": 0,
            "description_tooltip": null,
            "_model_module": "@jupyter-widgets/controls",
            "layout": "IPY_MODEL_d02b8a1690484e3c8ccd7d5dca5b45b5"
          }
        },
        "124db919527243bbabdfb571afed8f8e": {
          "model_module": "@jupyter-widgets/controls",
          "model_name": "HTMLModel",
          "state": {
            "_view_name": "HTMLView",
            "style": "IPY_MODEL_a355573cb01b4f5ab852f0f53770d666",
            "_dom_classes": [],
            "description": "",
            "_model_name": "HTMLModel",
            "placeholder": "​",
            "_view_module": "@jupyter-widgets/controls",
            "_model_module_version": "1.5.0",
            "value": " 0/14800 [00:00&lt;?, ? examples/s]",
            "_view_count": null,
            "_view_module_version": "1.5.0",
            "description_tooltip": null,
            "_model_module": "@jupyter-widgets/controls",
            "layout": "IPY_MODEL_fa055b847b6a4d76901d902e043dca5e"
          }
        },
        "873e252ae0a04c669abb5445578030b4": {
          "model_module": "@jupyter-widgets/controls",
          "model_name": "ProgressStyleModel",
          "state": {
            "_view_name": "StyleView",
            "_model_name": "ProgressStyleModel",
            "description_width": "initial",
            "_view_module": "@jupyter-widgets/base",
            "_model_module_version": "1.5.0",
            "_view_count": null,
            "_view_module_version": "1.2.0",
            "bar_color": null,
            "_model_module": "@jupyter-widgets/controls"
          }
        },
        "d02b8a1690484e3c8ccd7d5dca5b45b5": {
          "model_module": "@jupyter-widgets/base",
          "model_name": "LayoutModel",
          "state": {
            "_view_name": "LayoutView",
            "grid_template_rows": null,
            "right": null,
            "justify_content": null,
            "_view_module": "@jupyter-widgets/base",
            "overflow": null,
            "_model_module_version": "1.2.0",
            "_view_count": null,
            "flex_flow": null,
            "width": null,
            "min_width": null,
            "border": null,
            "align_items": null,
            "bottom": null,
            "_model_module": "@jupyter-widgets/base",
            "top": null,
            "grid_column": null,
            "overflow_y": null,
            "overflow_x": null,
            "grid_auto_flow": null,
            "grid_area": null,
            "grid_template_columns": null,
            "flex": null,
            "_model_name": "LayoutModel",
            "justify_items": null,
            "grid_row": null,
            "max_height": null,
            "align_content": null,
            "visibility": null,
            "align_self": null,
            "height": null,
            "min_height": null,
            "padding": null,
            "grid_auto_rows": null,
            "grid_gap": null,
            "max_width": null,
            "order": null,
            "_view_module_version": "1.2.0",
            "grid_template_areas": null,
            "object_position": null,
            "object_fit": null,
            "grid_auto_columns": null,
            "margin": null,
            "display": null,
            "left": null
          }
        },
        "a355573cb01b4f5ab852f0f53770d666": {
          "model_module": "@jupyter-widgets/controls",
          "model_name": "DescriptionStyleModel",
          "state": {
            "_view_name": "StyleView",
            "_model_name": "DescriptionStyleModel",
            "description_width": "",
            "_view_module": "@jupyter-widgets/base",
            "_model_module_version": "1.5.0",
            "_view_count": null,
            "_view_module_version": "1.2.0",
            "_model_module": "@jupyter-widgets/controls"
          }
        },
        "fa055b847b6a4d76901d902e043dca5e": {
          "model_module": "@jupyter-widgets/base",
          "model_name": "LayoutModel",
          "state": {
            "_view_name": "LayoutView",
            "grid_template_rows": null,
            "right": null,
            "justify_content": null,
            "_view_module": "@jupyter-widgets/base",
            "overflow": null,
            "_model_module_version": "1.2.0",
            "_view_count": null,
            "flex_flow": null,
            "width": null,
            "min_width": null,
            "border": null,
            "align_items": null,
            "bottom": null,
            "_model_module": "@jupyter-widgets/base",
            "top": null,
            "grid_column": null,
            "overflow_y": null,
            "overflow_x": null,
            "grid_auto_flow": null,
            "grid_area": null,
            "grid_template_columns": null,
            "flex": null,
            "_model_name": "LayoutModel",
            "justify_items": null,
            "grid_row": null,
            "max_height": null,
            "align_content": null,
            "visibility": null,
            "align_self": null,
            "height": null,
            "min_height": null,
            "padding": null,
            "grid_auto_rows": null,
            "grid_gap": null,
            "max_width": null,
            "order": null,
            "_view_module_version": "1.2.0",
            "grid_template_areas": null,
            "object_position": null,
            "object_fit": null,
            "grid_auto_columns": null,
            "margin": null,
            "display": null,
            "left": null
          }
        }
      }
    }
  },
  "cells": [
    {
      "cell_type": "markdown",
      "metadata": {
        "id": "rIwjfmouql8k",
        "colab_type": "text"
      },
      "source": [
        "# Make sure TensorFlow 2.0 is used"
      ]
    },
    {
      "cell_type": "code",
      "metadata": {
        "id": "EfvZ0oNwoYkw",
        "colab_type": "code",
        "colab": {}
      },
      "source": [
        "%tensorflow_version 2.x"
      ],
      "execution_count": 0,
      "outputs": []
    },
    {
      "cell_type": "markdown",
      "metadata": {
        "id": "InFe8AKBrQMZ",
        "colab_type": "text"
      },
      "source": [
        "# Import neede libraries"
      ]
    },
    {
      "cell_type": "code",
      "metadata": {
        "id": "TSNgadPgrQel",
        "colab_type": "code",
        "colab": {}
      },
      "source": [
        "import tensorflow as tf\n",
        "import numpy as np\n",
        "import tensorflow_datasets as tfds\n",
        "import math"
      ],
      "execution_count": 0,
      "outputs": []
    },
    {
      "cell_type": "markdown",
      "metadata": {
        "id": "3C8EjLYPsyux",
        "colab_type": "text"
      },
      "source": [
        "**Check TF version**"
      ]
    },
    {
      "cell_type": "code",
      "metadata": {
        "id": "MK8NIVlWsyjV",
        "colab_type": "code",
        "outputId": "7f0fecb4-3f27-431c-df0f-5604345c0754",
        "colab": {
          "base_uri": "https://localhost:8080/",
          "height": 34
        }
      },
      "source": [
        "print(tf.version.VERSION)"
      ],
      "execution_count": 0,
      "outputs": [
        {
          "output_type": "stream",
          "text": [
            "2.2.0-rc1\n"
          ],
          "name": "stdout"
        }
      ]
    },
    {
      "cell_type": "markdown",
      "metadata": {
        "id": "bDZKrhI9tNPZ",
        "colab_type": "text"
      },
      "source": [
        "# Check system specs (is GPU available)"
      ]
    },
    {
      "cell_type": "code",
      "metadata": {
        "id": "R8fsDgwTtNGH",
        "colab_type": "code",
        "outputId": "94794750-5270-4fe7-f6d5-bad42821e373",
        "colab": {
          "base_uri": "https://localhost:8080/",
          "height": 476
        }
      },
      "source": [
        "from tensorflow.python.client import device_lib\n",
        "device_lib.list_local_devices()"
      ],
      "execution_count": 0,
      "outputs": [
        {
          "output_type": "execute_result",
          "data": {
            "text/plain": [
              "[name: \"/device:CPU:0\"\n",
              " device_type: \"CPU\"\n",
              " memory_limit: 268435456\n",
              " locality {\n",
              " }\n",
              " incarnation: 9793141948768189812, name: \"/device:XLA_CPU:0\"\n",
              " device_type: \"XLA_CPU\"\n",
              " memory_limit: 17179869184\n",
              " locality {\n",
              " }\n",
              " incarnation: 3682074888770806815\n",
              " physical_device_desc: \"device: XLA_CPU device\", name: \"/device:XLA_GPU:0\"\n",
              " device_type: \"XLA_GPU\"\n",
              " memory_limit: 17179869184\n",
              " locality {\n",
              " }\n",
              " incarnation: 12197122416648897545\n",
              " physical_device_desc: \"device: XLA_GPU device\", name: \"/device:GPU:0\"\n",
              " device_type: \"GPU\"\n",
              " memory_limit: 7304675328\n",
              " locality {\n",
              "   bus_id: 1\n",
              "   links {\n",
              "   }\n",
              " }\n",
              " incarnation: 929940988181217366\n",
              " physical_device_desc: \"device: 0, name: Tesla P4, pci bus id: 0000:00:04.0, compute capability: 6.1\"]"
            ]
          },
          "metadata": {
            "tags": []
          },
          "execution_count": 4
        }
      ]
    },
    {
      "cell_type": "markdown",
      "metadata": {
        "id": "r1ki7yeMtmW7",
        "colab_type": "text"
      },
      "source": [
        "# Load dataset"
      ]
    },
    {
      "cell_type": "code",
      "metadata": {
        "id": "7Ni0RMDxtmJj",
        "colab_type": "code",
        "outputId": "93910053-d8db-4998-86c3-f5fbef1d620d",
        "colab": {
          "base_uri": "https://localhost:8080/",
          "height": 467,
          "referenced_widgets": [
            "1cdf2f36c0c54caf8d015b0111dd96c5",
            "55b576f3f4f24072816152acf6afe5d3",
            "384904f42d904c2eba7b351eceb45daf",
            "994e916f3aac4cb59aeeeb40d64957d8",
            "835d0c3f962d493bb88418639c6868c6",
            "3e018e91ccea40e180305408f90ebaec",
            "afee32edb27842dda89c024a7c59e1eb",
            "94c95d483df64746abf8594f0b910ea3",
            "b332700e8db2412b9c0a740f10f76e30",
            "94b5c50f0843402d9d97cbfc3e2531aa",
            "db3129e30fd845618a95a504d0583b95",
            "5b56bb772ab94b7f880dc13dd2cfa724",
            "b04831fedb4b44dc99c8685109f4b49b",
            "1e942cdec4a64978819a8d2620ba6f16",
            "9c5c5815abf64e09a6c4578041ac24f0",
            "27ec0778bc4346a0abbd0d45b8323564",
            "c8c8352f877e452cb03a7b5f4e86a56f",
            "50fd78a6c8b84ae09cf2e4ba61b6a3ef",
            "d794328099404add9b35484200217a10",
            "06cf2fdb5f21457db2353eb610f19433",
            "26a98ffa5822463280d98b3c6de7534b",
            "e0875a3c80b847fd95ebdaa7e4c98a2d",
            "0dd9fbf161b8493dbae73a9bf5545d81",
            "11c01d45e47b4d74a00db0780a3fbcb7",
            "2400d1a49167400facd47a6b5f480be9",
            "06f7c7fc3f3d43d9b3ea365de57df9a7",
            "d4acb42480d34766a22738f2938a617e",
            "8ba840a73e234340a08ea64c9a5c1008",
            "adbac6c5b88444188510508af4aeb4ee",
            "3071955372e34d3fbcd6f1743226e94c",
            "d9d2991789a34ce5b75b1effa056db14",
            "22913cc5a70c46e6b35a8d295b9780c9",
            "139b765ce9a34b9094c25606e72927b7",
            "b1f5354604e945e3babb9399defef013",
            "0fff09afa9224fc389a4c748549489bd",
            "6ef1b3c2dcbc47f09741bcc4541cc189",
            "75da48ee40604f778f25cc4320465e7d",
            "3e1d152287a34ce0a7bf62afd91370ee",
            "aa9e231637394a5aa3c28db459020075",
            "2bfd15a39d364f6e85caf2c750f85d12",
            "79585cabb8dc4974a99efc021841c2df",
            "5c4a0c6190d3438787dd684ebf8945d2",
            "c911119cdb80497f88a5fff7869b1116",
            "f00b42d92844411aa041ee37201c409d",
            "850dce7098334276b8ea8d08a38294b2",
            "5901879f96664ee5a243e4514304cb92",
            "2e3194a29faa46e09287f88ab9d62973",
            "71e19856132a41b09d449c57264cf1e3",
            "4240ebcd96e5408da91102a19987c00c",
            "d84210751c3e42a8a4244b75cfa2bbf5",
            "e22b294345de4ade89570f667d5c3973",
            "a8bc3f0727c8473998e0a7290d10ad49",
            "e38ac958e7eb4538b549a689e14be64d",
            "4629d4cb159246be86569421fda69ebb",
            "ccfd7d499df9437e91468e54dca02394",
            "0201addc2fde4ab2b189ed57e1392d02",
            "4c3ae8a946c24ad9a372e0feabe5ad1b",
            "7c9e1f4590384df192f5b543d6d6fa9b",
            "ef67967ab329450f952c24d31c5c2c3e",
            "124db919527243bbabdfb571afed8f8e",
            "873e252ae0a04c669abb5445578030b4",
            "d02b8a1690484e3c8ccd7d5dca5b45b5",
            "a355573cb01b4f5ab852f0f53770d666",
            "fa055b847b6a4d76901d902e043dca5e"
          ]
        }
      },
      "source": [
        "emnist_train = tfds.load(name=\"emnist/letters\", split=tfds.Split.TRAIN, batch_size=-1 ) \n",
        "emnist_test = tfds.load(name=\"emnist/letters\", split=tfds.Split.TEST, batch_size=-1)"
      ],
      "execution_count": 0,
      "outputs": [
        {
          "output_type": "stream",
          "text": [
            "\u001b[1mDownloading and preparing dataset emnist/letters/3.0.0 (download: 535.73 MiB, generated: Unknown size, total: 535.73 MiB) to /root/tensorflow_datasets/emnist/letters/3.0.0...\u001b[0m\n"
          ],
          "name": "stdout"
        },
        {
          "output_type": "display_data",
          "data": {
            "application/vnd.jupyter.widget-view+json": {
              "model_id": "1cdf2f36c0c54caf8d015b0111dd96c5",
              "version_minor": 0,
              "version_major": 2
            },
            "text/plain": [
              "HBox(children=(IntProgress(value=1, bar_style='info', description='Dl Completed...', max=1, style=ProgressStyl…"
            ]
          },
          "metadata": {
            "tags": []
          }
        },
        {
          "output_type": "display_data",
          "data": {
            "application/vnd.jupyter.widget-view+json": {
              "model_id": "b332700e8db2412b9c0a740f10f76e30",
              "version_minor": 0,
              "version_major": 2
            },
            "text/plain": [
              "HBox(children=(IntProgress(value=1, bar_style='info', description='Dl Size...', max=1, style=ProgressStyle(des…"
            ]
          },
          "metadata": {
            "tags": []
          }
        },
        {
          "output_type": "display_data",
          "data": {
            "application/vnd.jupyter.widget-view+json": {
              "model_id": "c8c8352f877e452cb03a7b5f4e86a56f",
              "version_minor": 0,
              "version_major": 2
            },
            "text/plain": [
              "HBox(children=(IntProgress(value=1, bar_style='info', description='Extraction completed...', max=1, style=Prog…"
            ]
          },
          "metadata": {
            "tags": []
          }
        },
        {
          "output_type": "stream",
          "text": [
            "/usr/local/lib/python3.6/dist-packages/urllib3/connectionpool.py:847: InsecureRequestWarning: Unverified HTTPS request is being made. Adding certificate verification is strongly advised. See: https://urllib3.readthedocs.io/en/latest/advanced-usage.html#ssl-warnings\n",
            "  InsecureRequestWarning)\n"
          ],
          "name": "stderr"
        },
        {
          "output_type": "stream",
          "text": [
            "\n",
            "\n",
            "\n",
            "\n",
            "\n",
            "\n"
          ],
          "name": "stdout"
        },
        {
          "output_type": "display_data",
          "data": {
            "application/vnd.jupyter.widget-view+json": {
              "model_id": "2400d1a49167400facd47a6b5f480be9",
              "version_minor": 0,
              "version_major": 2
            },
            "text/plain": [
              "HBox(children=(IntProgress(value=1, bar_style='info', description='Extraction completed...', max=1, style=Prog…"
            ]
          },
          "metadata": {
            "tags": []
          }
        },
        {
          "output_type": "stream",
          "text": [
            "\n",
            "\n"
          ],
          "name": "stdout"
        },
        {
          "output_type": "display_data",
          "data": {
            "application/vnd.jupyter.widget-view+json": {
              "model_id": "139b765ce9a34b9094c25606e72927b7",
              "version_minor": 0,
              "version_major": 2
            },
            "text/plain": [
              "HBox(children=(IntProgress(value=1, bar_style='info', max=1), HTML(value='')))"
            ]
          },
          "metadata": {
            "tags": []
          }
        },
        {
          "output_type": "stream",
          "text": [
            "\rShuffling and writing examples to /root/tensorflow_datasets/emnist/letters/3.0.0.incompleteZM7CCI/emnist-train.tfrecord\n"
          ],
          "name": "stdout"
        },
        {
          "output_type": "display_data",
          "data": {
            "application/vnd.jupyter.widget-view+json": {
              "model_id": "79585cabb8dc4974a99efc021841c2df",
              "version_minor": 0,
              "version_major": 2
            },
            "text/plain": [
              "HBox(children=(IntProgress(value=0, max=88800), HTML(value='')))"
            ]
          },
          "metadata": {
            "tags": []
          }
        },
        {
          "output_type": "stream",
          "text": [
            "\r"
          ],
          "name": "stdout"
        },
        {
          "output_type": "display_data",
          "data": {
            "application/vnd.jupyter.widget-view+json": {
              "model_id": "4240ebcd96e5408da91102a19987c00c",
              "version_minor": 0,
              "version_major": 2
            },
            "text/plain": [
              "HBox(children=(IntProgress(value=1, bar_style='info', max=1), HTML(value='')))"
            ]
          },
          "metadata": {
            "tags": []
          }
        },
        {
          "output_type": "stream",
          "text": [
            "\rShuffling and writing examples to /root/tensorflow_datasets/emnist/letters/3.0.0.incompleteZM7CCI/emnist-test.tfrecord\n"
          ],
          "name": "stdout"
        },
        {
          "output_type": "display_data",
          "data": {
            "application/vnd.jupyter.widget-view+json": {
              "model_id": "4c3ae8a946c24ad9a372e0feabe5ad1b",
              "version_minor": 0,
              "version_major": 2
            },
            "text/plain": [
              "HBox(children=(IntProgress(value=0, max=14800), HTML(value='')))"
            ]
          },
          "metadata": {
            "tags": []
          }
        },
        {
          "output_type": "stream",
          "text": [
            "\u001b[1mDataset emnist downloaded and prepared to /root/tensorflow_datasets/emnist/letters/3.0.0. Subsequent calls will reuse this data.\u001b[0m\n",
            "\r"
          ],
          "name": "stdout"
        }
      ]
    },
    {
      "cell_type": "markdown",
      "metadata": {
        "id": "ixvEDjjFv9hq",
        "colab_type": "text"
      },
      "source": [
        "**Separate data and labels**"
      ]
    },
    {
      "cell_type": "code",
      "metadata": {
        "id": "51vRvY-3v8jb",
        "colab_type": "code",
        "colab": {}
      },
      "source": [
        "x_train, y_train = emnist_train[\"image\"], emnist_train[\"label\"]\n",
        "x_test, y_test = emnist_test[\"image\"],emnist_test[\"label\"]"
      ],
      "execution_count": 0,
      "outputs": []
    },
    {
      "cell_type": "markdown",
      "metadata": {
        "id": "2bd6QmVCxqLn",
        "colab_type": "text"
      },
      "source": [
        "**Check dimensions and data type**"
      ]
    },
    {
      "cell_type": "code",
      "metadata": {
        "id": "cBulQEMOvbvT",
        "colab_type": "code",
        "outputId": "f565708a-80ee-4c90-972a-f78b6211de24",
        "colab": {
          "base_uri": "https://localhost:8080/",
          "height": 102
        }
      },
      "source": [
        "print(x_train.dtype)\n",
        "print(x_train.shape)\n",
        "print(y_train.shape)\n",
        "print(x_test.shape)\n",
        "print(y_test.shape)"
      ],
      "execution_count": 0,
      "outputs": [
        {
          "output_type": "stream",
          "text": [
            "<dtype: 'uint8'>\n",
            "(88800, 28, 28, 1)\n",
            "(88800,)\n",
            "(14800, 28, 28, 1)\n",
            "(14800,)\n"
          ],
          "name": "stdout"
        }
      ]
    },
    {
      "cell_type": "markdown",
      "metadata": {
        "id": "mL5KAhhSx05Z",
        "colab_type": "text"
      },
      "source": [
        "**Check label values (id of classes)**"
      ]
    },
    {
      "cell_type": "code",
      "metadata": {
        "id": "vDlyJyN4x0xL",
        "colab_type": "code",
        "outputId": "09936d5d-4e07-4640-b0e7-72a342034ba9",
        "colab": {
          "base_uri": "https://localhost:8080/",
          "height": 51
        }
      },
      "source": [
        "print(tf.math.reduce_max(y_train))\n",
        "print(tf.math.reduce_min(y_train))"
      ],
      "execution_count": 0,
      "outputs": [
        {
          "output_type": "stream",
          "text": [
            "tf.Tensor(26, shape=(), dtype=int64)\n",
            "tf.Tensor(1, shape=(), dtype=int64)\n"
          ],
          "name": "stdout"
        }
      ]
    },
    {
      "cell_type": "markdown",
      "metadata": {
        "id": "L22tKVezzQCC",
        "colab_type": "text"
      },
      "source": [
        "# Dataset manipulation for easier manipulation"
      ]
    },
    {
      "cell_type": "markdown",
      "metadata": {
        "id": "avWXAZmG0quH",
        "colab_type": "text"
      },
      "source": [
        "**Labels to one-hot encoding**"
      ]
    },
    {
      "cell_type": "code",
      "metadata": {
        "id": "s2topjBK1Skz",
        "colab_type": "code",
        "outputId": "12a0cf03-654c-42d7-8122-54c25152257a",
        "colab": {
          "base_uri": "https://localhost:8080/",
          "height": 85
        }
      },
      "source": [
        "number_of_classes=26 #number of letters\n",
        "y_train_OH=tf.one_hot(y_train, depth=number_of_classes)\n",
        "y_test_OH=tf.one_hot(y_test, depth=number_of_classes)\n",
        "print(y_train.shape)\n",
        "print(y_train_OH.shape)\n",
        "print(y_test.shape)\n",
        "print(y_test_OH.shape)"
      ],
      "execution_count": 0,
      "outputs": [
        {
          "output_type": "stream",
          "text": [
            "(88800,)\n",
            "(88800, 26)\n",
            "(14800,)\n",
            "(14800, 26)\n"
          ],
          "name": "stdout"
        }
      ]
    },
    {
      "cell_type": "markdown",
      "metadata": {
        "id": "YVChI3dl2zUk",
        "colab_type": "text"
      },
      "source": [
        "**Check if one-hot encoding is correct**"
      ]
    },
    {
      "cell_type": "code",
      "metadata": {
        "id": "-8FZA5nw25F5",
        "colab_type": "code",
        "outputId": "e8e1b82d-12e2-45a4-af89-27c78afde2cb",
        "colab": {
          "base_uri": "https://localhost:8080/",
          "height": 136
        }
      },
      "source": [
        "print(y_train[33])\n",
        "print(y_train_OH[33])\n",
        "uniq, _ = tf.unique(y_train)\n",
        "print(uniq)"
      ],
      "execution_count": 0,
      "outputs": [
        {
          "output_type": "stream",
          "text": [
            "tf.Tensor(2, shape=(), dtype=int64)\n",
            "tf.Tensor(\n",
            "[0. 0. 1. 0. 0. 0. 0. 0. 0. 0. 0. 0. 0. 0. 0. 0. 0. 0. 0. 0. 0. 0. 0. 0.\n",
            " 0. 0.], shape=(26,), dtype=float32)\n",
            "tf.Tensor(\n",
            "[25  7 11 10  4 24 18 22  2 13 16 14 21 23 19  8 15  5 20  3  1 12  9 26\n",
            "  6 17], shape=(26,), dtype=int64)\n"
          ],
          "name": "stdout"
        }
      ]
    },
    {
      "cell_type": "markdown",
      "metadata": {
        "id": "YxgBBLmr7RmF",
        "colab_type": "text"
      },
      "source": [
        "**One-hot encoding is incorrect due to labels starting from 1**"
      ]
    },
    {
      "cell_type": "code",
      "metadata": {
        "id": "j2L3Ypzs8RGp",
        "colab_type": "code",
        "outputId": "9d0984b1-62aa-4f9b-8e20-eb4cc1fb0513",
        "colab": {
          "base_uri": "https://localhost:8080/",
          "height": 68
        }
      },
      "source": [
        "y_train-=1\n",
        "uniq, _ = tf.unique(y_train)\n",
        "print(uniq)"
      ],
      "execution_count": 0,
      "outputs": [
        {
          "output_type": "stream",
          "text": [
            "tf.Tensor(\n",
            "[24  6 10  9  3 23 17 21  1 12 15 13 20 22 18  7 14  4 19  2  0 11  8 25\n",
            "  5 16], shape=(26,), dtype=int64)\n"
          ],
          "name": "stdout"
        }
      ]
    },
    {
      "cell_type": "code",
      "metadata": {
        "id": "vljbafFh9oMI",
        "colab_type": "code",
        "outputId": "cfe25b17-7225-44ab-d37f-606c4659432d",
        "colab": {
          "base_uri": "https://localhost:8080/",
          "height": 34
        }
      },
      "source": [
        "y_test-=1\n",
        "uniq, _ = tf.unique(y_test)\n",
        "print(uniq)"
      ],
      "execution_count": 0,
      "outputs": [
        {
          "output_type": "stream",
          "text": [
            "tf.Tensor([12  7  0  8  5 11 16  1 10  6 14  9 13  4 17 18 15  3  2], shape=(19,), dtype=int64)\n"
          ],
          "name": "stdout"
        }
      ]
    },
    {
      "cell_type": "code",
      "metadata": {
        "id": "3nPNsEBtS9FG",
        "colab_type": "code",
        "colab": {}
      },
      "source": [
        "y_train_OH=tf.one_hot(y_train, depth=number_of_classes)\n",
        "y_test_OH=tf.one_hot(y_test, depth=number_of_classes)"
      ],
      "execution_count": 0,
      "outputs": []
    },
    {
      "cell_type": "markdown",
      "metadata": {
        "id": "e2EfjynPTYJM",
        "colab_type": "text"
      },
      "source": [
        "**Check if one-hot encoding is correct now**"
      ]
    },
    {
      "cell_type": "code",
      "metadata": {
        "id": "eO5lyDhY57mn",
        "colab_type": "code",
        "outputId": "686d4982-2571-48d6-d613-9ec50021eb80",
        "colab": {
          "base_uri": "https://localhost:8080/",
          "height": 85
        }
      },
      "source": [
        "print(y_train[33])\n",
        "print(y_train_OH[33])"
      ],
      "execution_count": 0,
      "outputs": [
        {
          "output_type": "stream",
          "text": [
            "tf.Tensor(1, shape=(), dtype=int64)\n",
            "tf.Tensor(\n",
            "[0. 1. 0. 0. 0. 0. 0. 0. 0. 0. 0. 0. 0. 0. 0. 0. 0. 0. 0. 0. 0. 0. 0. 0.\n",
            " 0. 0.], shape=(26,), dtype=float32)\n"
          ],
          "name": "stdout"
        }
      ]
    },
    {
      "cell_type": "code",
      "metadata": {
        "id": "kxK8RrNB29Zk",
        "colab_type": "code",
        "outputId": "9278b594-5c29-45ad-adbe-24a6159cba3e",
        "colab": {
          "base_uri": "https://localhost:8080/",
          "height": 85
        }
      },
      "source": [
        "print(y_train[101])\n",
        "print(y_train_OH[101])"
      ],
      "execution_count": 0,
      "outputs": [
        {
          "output_type": "stream",
          "text": [
            "tf.Tensor(11, shape=(), dtype=int64)\n",
            "tf.Tensor(\n",
            "[0. 0. 0. 0. 0. 0. 0. 0. 0. 0. 0. 1. 0. 0. 0. 0. 0. 0. 0. 0. 0. 0. 0. 0.\n",
            " 0. 0.], shape=(26,), dtype=float32)\n"
          ],
          "name": "stdout"
        }
      ]
    },
    {
      "cell_type": "code",
      "metadata": {
        "id": "2tI2xE0-2_yI",
        "colab_type": "code",
        "outputId": "8995f043-57e3-483f-ca86-3fa5226669f2",
        "colab": {
          "base_uri": "https://localhost:8080/",
          "height": 85
        }
      },
      "source": [
        "print(y_train[1596])\n",
        "print(y_train_OH[1596])"
      ],
      "execution_count": 0,
      "outputs": [
        {
          "output_type": "stream",
          "text": [
            "tf.Tensor(15, shape=(), dtype=int64)\n",
            "tf.Tensor(\n",
            "[0. 0. 0. 0. 0. 0. 0. 0. 0. 0. 0. 0. 0. 0. 0. 1. 0. 0. 0. 0. 0. 0. 0. 0.\n",
            " 0. 0.], shape=(26,), dtype=float32)\n"
          ],
          "name": "stdout"
        }
      ]
    },
    {
      "cell_type": "markdown",
      "metadata": {
        "id": "WW5GftopTvCC",
        "colab_type": "text"
      },
      "source": [
        "**Cast image data from int to float (single precision)**"
      ]
    },
    {
      "cell_type": "code",
      "metadata": {
        "id": "U4M0TvF5TusF",
        "colab_type": "code",
        "colab": {}
      },
      "source": [
        "x_train=tf.dtypes.cast(x_train, tf.float32)\n",
        "x_test=tf.dtypes.cast(x_test, tf.float32)"
      ],
      "execution_count": 0,
      "outputs": []
    },
    {
      "cell_type": "markdown",
      "metadata": {
        "id": "j3w4vqHnUkdd",
        "colab_type": "text"
      },
      "source": [
        "**Normalize pixel values**"
      ]
    },
    {
      "cell_type": "code",
      "metadata": {
        "id": "jxZaW2lRUr7o",
        "colab_type": "code",
        "colab": {}
      },
      "source": [
        "x_train/=255.0\n",
        "x_test/=255.0"
      ],
      "execution_count": 0,
      "outputs": []
    },
    {
      "cell_type": "code",
      "metadata": {
        "id": "_xTX11gEU2t3",
        "colab_type": "code",
        "outputId": "0bc87c7d-0955-4d7c-b7e8-25b555f886a5",
        "colab": {
          "base_uri": "https://localhost:8080/",
          "height": 51
        }
      },
      "source": [
        "print(tf.math.reduce_max(x_train))\n",
        "print(tf.math.reduce_min(x_train))"
      ],
      "execution_count": 0,
      "outputs": [
        {
          "output_type": "stream",
          "text": [
            "tf.Tensor(1.0, shape=(), dtype=float32)\n",
            "tf.Tensor(0.0, shape=(), dtype=float32)\n"
          ],
          "name": "stdout"
        }
      ]
    },
    {
      "cell_type": "markdown",
      "metadata": {
        "id": "GQxy3mDAVCHc",
        "colab_type": "text"
      },
      "source": [
        "# Dictionary for class names"
      ]
    },
    {
      "cell_type": "code",
      "metadata": {
        "id": "ZO7s5W_xVMmU",
        "colab_type": "code",
        "colab": {}
      },
      "source": [
        "class_names = ['A', 'B', 'C', 'D', 'E',\n",
        "               'F', 'G', 'H', 'I', 'J', \n",
        "               'K', 'L', 'M', 'N', 'O', \n",
        "               'P', 'Q', 'R', 'S', 'T',\n",
        "               'U', 'V', 'W', 'X', 'Y', \n",
        "               'Z']"
      ],
      "execution_count": 0,
      "outputs": []
    },
    {
      "cell_type": "markdown",
      "metadata": {
        "id": "7vlD6xfjVl9w",
        "colab_type": "text"
      },
      "source": [
        "# Visualize dataset"
      ]
    },
    {
      "cell_type": "markdown",
      "metadata": {
        "id": "JM3Un-DTVyej",
        "colab_type": "text"
      },
      "source": [
        "**Check one random example**"
      ]
    },
    {
      "cell_type": "code",
      "metadata": {
        "id": "Iol7UPQnVvB-",
        "colab_type": "code",
        "outputId": "95ef2937-65e7-4de0-cfb3-af9acb63a65d",
        "colab": {
          "base_uri": "https://localhost:8080/",
          "height": 350
        }
      },
      "source": [
        "sample=5437\n",
        "import matplotlib.pyplot as plt\n",
        "\n",
        "img = x_train[sample]\n",
        "plt.imshow(tf.squeeze(img), cmap='gray')\n",
        "print(class_names[y_train[sample]])\n",
        "print(y_train[sample])\n",
        "print(y_train_OH[sample])"
      ],
      "execution_count": 0,
      "outputs": [
        {
          "output_type": "stream",
          "text": [
            "K\n",
            "tf.Tensor(10, shape=(), dtype=int64)\n",
            "tf.Tensor(\n",
            "[0. 0. 0. 0. 0. 0. 0. 0. 0. 0. 1. 0. 0. 0. 0. 0. 0. 0. 0. 0. 0. 0. 0. 0.\n",
            " 0. 0.], shape=(26,), dtype=float32)\n"
          ],
          "name": "stdout"
        },
        {
          "output_type": "display_data",
          "data": {
            "image/png": "[encoded data removed]",
            "text/plain": [
              "<Figure size 432x288 with 1 Axes>"
            ]
          },
          "metadata": {
            "tags": []
          }
        }
      ]
    },
    {
      "cell_type": "markdown",
      "metadata": {
        "id": "-TlVo7wib6Jh",
        "colab_type": "text"
      },
      "source": [
        "**Images need to be rotated!**"
      ]
    },
    {
      "cell_type": "code",
      "metadata": {
        "id": "HYUozHS5d9M-",
        "colab_type": "code",
        "outputId": "1b04fd3a-d5f2-45e3-8df6-bbedd69561b8",
        "colab": {
          "base_uri": "https://localhost:8080/",
          "height": 244
        }
      },
      "source": [
        "fig = plt.figure(figsize=(8, 3))\n",
        "ax1, ax2 = fig.subplots(1, 2)\n",
        "\n",
        "flipped=tf.image.flip_left_right(x_train[sample])\n",
        "ax1.imshow(tf.squeeze(flipped), cmap='gray')\n",
        "ax1.set_title('flipped')\n",
        "rotated=tf.image.rot90(flipped, k=1)\n",
        "ax2.imshow(tf.squeeze(rotated), cmap='gray')\n",
        "ax2.set_title('flipped + rotated')"
      ],
      "execution_count": 0,
      "outputs": [
        {
          "output_type": "execute_result",
          "data": {
            "text/plain": [
              "Text(0.5, 1.0, 'flipped + rotated')"
            ]
          },
          "metadata": {
            "tags": []
          },
          "execution_count": 22
        },
        {
          "output_type": "display_data",
          "data": {
            "image/png": "[encoded data removed]",
            "text/plain": [
              "<Figure size 576x216 with 2 Axes>"
            ]
          },
          "metadata": {
            "tags": []
          }
        }
      ]
    },
    {
      "cell_type": "markdown",
      "metadata": {
        "id": "rSfSzfreeT0W",
        "colab_type": "text"
      },
      "source": [
        "**Apply to whole dataset**"
      ]
    },
    {
      "cell_type": "code",
      "metadata": {
        "id": "bpRJ6Scvea6y",
        "colab_type": "code",
        "outputId": "74396779-9ea6-4cf4-9858-d61ecb486fb0",
        "colab": {
          "base_uri": "https://localhost:8080/",
          "height": 51
        }
      },
      "source": [
        "number_of_examples_for_train=x_train.shape[0]\n",
        "number_of_examples_for_test=x_test.shape[0]\n",
        "\n",
        "print(number_of_examples_for_train)\n",
        "print(number_of_examples_for_test)"
      ],
      "execution_count": 0,
      "outputs": [
        {
          "output_type": "stream",
          "text": [
            "88800\n",
            "14800\n"
          ],
          "name": "stdout"
        }
      ]
    },
    {
      "cell_type": "code",
      "metadata": {
        "id": "kryffTzjEJAj",
        "colab_type": "code",
        "colab": {}
      },
      "source": [
        "x_train_rotated=np.empty(shape=[number_of_examples_for_train, 28, 28, 1], dtype=np.float32)\n",
        "for i in range(len(x_train)):\n",
        "        flipped=tf.image.flip_left_right(x_train[i])\n",
        "        rotated=tf.image.rot90(flipped, k=1)\n",
        "        x_train_rotated[i]=rotated"
      ],
      "execution_count": 0,
      "outputs": []
    },
    {
      "cell_type": "code",
      "metadata": {
        "id": "GrU748BoFMoV",
        "colab_type": "code",
        "outputId": "3f0ebbd4-33c6-45b0-9242-50df3cd38a5a",
        "colab": {
          "base_uri": "https://localhost:8080/",
          "height": 34
        }
      },
      "source": [
        "print(x_train_rotated.shape)\n",
        "x_train=tf.convert_to_tensor(x_train_rotated)"
      ],
      "execution_count": 0,
      "outputs": [
        {
          "output_type": "stream",
          "text": [
            "(88800, 28, 28, 1)\n"
          ],
          "name": "stdout"
        }
      ]
    },
    {
      "cell_type": "markdown",
      "metadata": {
        "id": "3zcyLRnzFx71",
        "colab_type": "text"
      },
      "source": [
        "**Check if rotation is good for first 25 examples**"
      ]
    },
    {
      "cell_type": "code",
      "metadata": {
        "id": "Of1kMZycF6mg",
        "colab_type": "code",
        "outputId": "27413e9a-ac68-40e2-ec7e-32e9bbca1f6e",
        "colab": {
          "base_uri": "https://localhost:8080/",
          "height": 589
        }
      },
      "source": [
        "plt.figure(figsize=(10,10))\n",
        "for i in range(25):\n",
        "    plt.subplot(5,5,i+1)\n",
        "    plt.xticks([])\n",
        "    plt.yticks([])\n",
        "    plt.grid(False)\n",
        "    plt.imshow(tf.squeeze(x_train[i]), cmap='gray')\n",
        "    plt.xlabel(class_names[y_train[i]])\n",
        "plt.show()"
      ],
      "execution_count": 0,
      "outputs": [
        {
          "output_type": "display_data",
          "data": {
            "image/png": "[encoded data removed]",
            "text/plain": [
              "<Figure size 720x720 with 25 Axes>"
            ]
          },
          "metadata": {
            "tags": []
          }
        }
      ]
    },
    {
      "cell_type": "markdown",
      "metadata": {
        "id": "GVSFJNJJGI8U",
        "colab_type": "text"
      },
      "source": [
        "**Don't forget test set!**"
      ]
    },
    {
      "cell_type": "code",
      "metadata": {
        "id": "QuO8QDUeGIla",
        "colab_type": "code",
        "colab": {}
      },
      "source": [
        "x_test_rotated=np.empty(shape=[number_of_examples_for_test, 28, 28, 1], dtype=np.float32)\n",
        "for i in range(len(x_test)):\n",
        "        flipped=tf.image.flip_left_right(x_test[i])\n",
        "        rotated=tf.image.rot90(flipped, k=1)\n",
        "        x_test_rotated[i]=rotated"
      ],
      "execution_count": 0,
      "outputs": []
    },
    {
      "cell_type": "code",
      "metadata": {
        "id": "WukjJWwaGYWD",
        "colab_type": "code",
        "outputId": "f799d731-b294-4ea0-cfbe-aa926543649e",
        "colab": {
          "base_uri": "https://localhost:8080/",
          "height": 34
        }
      },
      "source": [
        "print(x_test_rotated.shape)\n",
        "x_test=tf.convert_to_tensor(x_test_rotated)"
      ],
      "execution_count": 0,
      "outputs": [
        {
          "output_type": "stream",
          "text": [
            "(14800, 28, 28, 1)\n"
          ],
          "name": "stdout"
        }
      ]
    },
    {
      "cell_type": "code",
      "metadata": {
        "id": "qrBCUHlbGdjs",
        "colab_type": "code",
        "outputId": "d433c37d-201c-4b44-e88a-9a3592b7a5cf",
        "colab": {
          "base_uri": "https://localhost:8080/",
          "height": 589
        }
      },
      "source": [
        "plt.figure(figsize=(10,10))\n",
        "for i in range(25):\n",
        "    plt.subplot(5,5,i+1)\n",
        "    plt.xticks([])\n",
        "    plt.yticks([])\n",
        "    plt.grid(False)\n",
        "    plt.imshow(tf.squeeze(x_test[i]), cmap='gray')\n",
        "    plt.xlabel(class_names[y_test[i]])\n",
        "plt.show()"
      ],
      "execution_count": 0,
      "outputs": [
        {
          "output_type": "display_data",
          "data": {
            "image/png": "[encoded data removed]",
            "text/plain": [
              "<Figure size 720x720 with 25 Axes>"
            ]
          },
          "metadata": {
            "tags": []
          }
        }
      ]
    },
    {
      "cell_type": "markdown",
      "metadata": {
        "id": "d5GYK4HoGo1T",
        "colab_type": "text"
      },
      "source": [
        "# Augment dataset"
      ]
    },
    {
      "cell_type": "code",
      "metadata": {
        "id": "vzGdCddJG2jO",
        "colab_type": "code",
        "colab": {}
      },
      "source": [
        "from tensorflow.keras.preprocessing.image import ImageDataGenerator\n",
        "BATCH_SIZE = 1024"
      ],
      "execution_count": 0,
      "outputs": []
    },
    {
      "cell_type": "code",
      "metadata": {
        "id": "IO9QS5-uWEXh",
        "colab_type": "code",
        "colab": {}
      },
      "source": [
        "gen = ImageDataGenerator(rotation_range=10, width_shift_range=0.1, shear_range=0.3,\n",
        "                       height_shift_range=0.1, zoom_range=0.1)"
      ],
      "execution_count": 0,
      "outputs": []
    },
    {
      "cell_type": "code",
      "metadata": {
        "id": "vfHi7cqhXP9N",
        "colab_type": "code",
        "outputId": "74dc3ce9-67f9-488d-dc3b-abd6fc3b6ccc",
        "colab": {
          "base_uri": "https://localhost:8080/",
          "height": 51
        }
      },
      "source": [
        "batches = gen.flow(x_train, y_train_OH, batch_size=BATCH_SIZE)\n",
        "test_batches = gen.flow(x_test, y_test_OH, batch_size=BATCH_SIZE)\n",
        "steps_per_epoch = int(np.ceil(batches.n/BATCH_SIZE))\n",
        "validation_steps = int(np.ceil(test_batches.n/BATCH_SIZE))\n",
        "\n",
        "print(steps_per_epoch)\n",
        "print(validation_steps)"
      ],
      "execution_count": 0,
      "outputs": [
        {
          "output_type": "stream",
          "text": [
            "87\n",
            "15\n"
          ],
          "name": "stdout"
        }
      ]
    },
    {
      "cell_type": "markdown",
      "metadata": {
        "id": "hQO__eDs3o41",
        "colab_type": "text"
      },
      "source": [
        "**Check how we generate new images from one example**"
      ]
    },
    {
      "cell_type": "code",
      "metadata": {
        "id": "eD-xS7WY3llF",
        "colab_type": "code",
        "outputId": "1ddc2c36-60ea-4245-ae7a-d1d03f73f9f5",
        "colab": {
          "base_uri": "https://localhost:8080/",
          "height": 282
        }
      },
      "source": [
        "img=x_train[33]\n",
        "plt.imshow(tf.squeeze(img), cmap='gray')"
      ],
      "execution_count": 0,
      "outputs": [
        {
          "output_type": "execute_result",
          "data": {
            "text/plain": [
              "<matplotlib.image.AxesImage at 0x7efc58f7f710>"
            ]
          },
          "metadata": {
            "tags": []
          },
          "execution_count": 40
        },
        {
          "output_type": "display_data",
          "data": {
            "image/png": "[encoded data removed]",
            "text/plain": [
              "<Figure size 432x288 with 1 Axes>"
            ]
          },
          "metadata": {
            "tags": []
          }
        }
      ]
    },
    {
      "cell_type": "code",
      "metadata": {
        "id": "pmtk3VU639wL",
        "colab_type": "code",
        "outputId": "7e4a67a3-3552-4f0e-b946-f241fd52548c",
        "colab": {
          "base_uri": "https://localhost:8080/",
          "height": 34
        }
      },
      "source": [
        "#hack for generator test, adding one more dimension\n",
        "img=tf.expand_dims(img,0)\n",
        "\n",
        "aug_iter = gen.flow(img)\n",
        "augmented = next(aug_iter)[0].astype(np.float32)\n",
        "print(augmented.shape)"
      ],
      "execution_count": 0,
      "outputs": [
        {
          "output_type": "stream",
          "text": [
            "(28, 28, 1)\n"
          ],
          "name": "stdout"
        }
      ]
    },
    {
      "cell_type": "markdown",
      "metadata": {
        "id": "WE4JMeCU5DQ5",
        "colab_type": "text"
      },
      "source": [
        "**Now when generator return right shape let's visualize new examples**"
      ]
    },
    {
      "cell_type": "code",
      "metadata": {
        "id": "fdcAW-865Cnx",
        "colab_type": "code",
        "outputId": "2d251276-f84c-4655-cc93-8e3f2566d5f8",
        "colab": {
          "base_uri": "https://localhost:8080/",
          "height": 88
        }
      },
      "source": [
        "plt.figure(figsize=(12,6))\n",
        "for i in range(10):\n",
        "    sub=plt.subplot(2,10,i+1)\n",
        "    sub.axis('Off')\n",
        "    augmented = next(aug_iter)[0].astype(np.float32)\n",
        "    plt.imshow(tf.squeeze(augmented), cmap='gray')"
      ],
      "execution_count": 0,
      "outputs": [
        {
          "output_type": "display_data",
          "data": {
            "image/png": "[encoded data removed]",
            "text/plain": [
              "<Figure size 864x432 with 10 Axes>"
            ]
          },
          "metadata": {
            "tags": []
          }
        }
      ]
    },
    {
      "cell_type": "markdown",
      "metadata": {
        "id": "Sg-yaITOYGAt",
        "colab_type": "text"
      },
      "source": [
        "# Model"
      ]
    },
    {
      "cell_type": "code",
      "metadata": {
        "id": "Qg-BcZL0YaCx",
        "colab_type": "code",
        "colab": {}
      },
      "source": [
        "from tensorflow.keras.models import Sequential\n",
        "from tensorflow.keras.layers import Dense, Conv2D, Flatten, Dropout, MaxPooling2D, BatchNormalization"
      ],
      "execution_count": 0,
      "outputs": []
    },
    {
      "cell_type": "code",
      "metadata": {
        "id": "o8fbWtBuYKRJ",
        "colab_type": "code",
        "colab": {}
      },
      "source": [
        "model = Sequential([\n",
        "    Conv2D(16, 3, padding='same', activation='relu', input_shape=(28, 28 ,1)),\n",
        "    BatchNormalization(),\n",
        "    Conv2D(16, 3, padding='same', activation='relu'),\n",
        "    MaxPooling2D(),\n",
        "    Conv2D(32, 3, padding='same', activation='relu'),\n",
        "    BatchNormalization(),\n",
        "    Conv2D(32, 3, padding='same', activation='relu'),\n",
        "    MaxPooling2D(),\n",
        "    Conv2D(64, 3, padding='same', activation='relu'),\n",
        "    BatchNormalization(),\n",
        "    Conv2D(64, 3, padding='same', activation='relu'),\n",
        "    MaxPooling2D(),\n",
        "    Flatten(),\n",
        "    Dense(512, activation='relu'),\n",
        "    Dropout(0.2),\n",
        "    Dense(number_of_classes, activation='softmax')\n",
        "])"
      ],
      "execution_count": 0,
      "outputs": []
    },
    {
      "cell_type": "code",
      "metadata": {
        "id": "pLAh9axmYj91",
        "colab_type": "code",
        "colab": {}
      },
      "source": [
        "model.compile(optimizer='adam',\n",
        "              loss='categorical_crossentropy',\n",
        "              metrics=['accuracy'])"
      ],
      "execution_count": 0,
      "outputs": []
    },
    {
      "cell_type": "code",
      "metadata": {
        "id": "t2Ipu3a3Y4Do",
        "colab_type": "code",
        "outputId": "9d699cdf-b8a6-41a0-b4a3-3dd1acb2cedd",
        "colab": {
          "base_uri": "https://localhost:8080/",
          "height": 697
        }
      },
      "source": [
        "model.summary()\n"
      ],
      "execution_count": 0,
      "outputs": [
        {
          "output_type": "stream",
          "text": [
            "Model: \"sequential\"\n",
            "_________________________________________________________________\n",
            "Layer (type)                 Output Shape              Param #   \n",
            "=================================================================\n",
            "conv2d (Conv2D)              (None, 28, 28, 16)        160       \n",
            "_________________________________________________________________\n",
            "batch_normalization (BatchNo (None, 28, 28, 16)        64        \n",
            "_________________________________________________________________\n",
            "conv2d_1 (Conv2D)            (None, 28, 28, 16)        2320      \n",
            "_________________________________________________________________\n",
            "max_pooling2d (MaxPooling2D) (None, 14, 14, 16)        0         \n",
            "_________________________________________________________________\n",
            "conv2d_2 (Conv2D)            (None, 14, 14, 32)        4640      \n",
            "_________________________________________________________________\n",
            "batch_normalization_1 (Batch (None, 14, 14, 32)        128       \n",
            "_________________________________________________________________\n",
            "conv2d_3 (Conv2D)            (None, 14, 14, 32)        9248      \n",
            "_________________________________________________________________\n",
            "max_pooling2d_1 (MaxPooling2 (None, 7, 7, 32)          0         \n",
            "_________________________________________________________________\n",
            "conv2d_4 (Conv2D)            (None, 7, 7, 64)          18496     \n",
            "_________________________________________________________________\n",
            "batch_normalization_2 (Batch (None, 7, 7, 64)          256       \n",
            "_________________________________________________________________\n",
            "conv2d_5 (Conv2D)            (None, 7, 7, 64)          36928     \n",
            "_________________________________________________________________\n",
            "max_pooling2d_2 (MaxPooling2 (None, 3, 3, 64)          0         \n",
            "_________________________________________________________________\n",
            "flatten (Flatten)            (None, 576)               0         \n",
            "_________________________________________________________________\n",
            "dense (Dense)                (None, 512)               295424    \n",
            "_________________________________________________________________\n",
            "dropout (Dropout)            (None, 512)               0         \n",
            "_________________________________________________________________\n",
            "dense_1 (Dense)              (None, 26)                13338     \n",
            "=================================================================\n",
            "Total params: 381,002\n",
            "Trainable params: 380,778\n",
            "Non-trainable params: 224\n",
            "_________________________________________________________________\n"
          ],
          "name": "stdout"
        }
      ]
    },
    {
      "cell_type": "markdown",
      "metadata": {
        "id": "64IgyFcaZSmj",
        "colab_type": "text"
      },
      "source": [
        "# Mount Google Drive\n"
      ]
    },
    {
      "cell_type": "code",
      "metadata": {
        "id": "vZDScujdZbni",
        "colab_type": "code",
        "outputId": "9705cc60-f1de-4be1-fd40-b12dff8fa890",
        "colab": {
          "base_uri": "https://localhost:8080/",
          "height": 122
        }
      },
      "source": [
        "!pip install -q pyyaml h5py\n",
        "from google.colab import drive\n",
        "drive.mount('/content/drive')"
      ],
      "execution_count": 0,
      "outputs": [
        {
          "output_type": "stream",
          "text": [
            "Go to this URL in a browser: https://accounts.google.com/o/oauth2/auth?client_id=947318989803-6bn6qk8qdgf4n4g3pfee6491hc0brc4i.apps.googleusercontent.com&redirect_uri=urn%3aietf%3awg%3aoauth%3a2.0%3aoob&response_type=code&scope=email%20https%3a%2f%2fwww.googleapis.com%2fauth%2fdocs.test%20https%3a%2f%2fwww.googleapis.com%2fauth%2fdrive%20https%3a%2f%2fwww.googleapis.com%2fauth%2fdrive.photos.readonly%20https%3a%2f%2fwww.googleapis.com%2fauth%2fpeopleapi.readonly\n",
            "\n",
            "Enter your authorization code:\n",
            "··········\n",
            "Mounted at /content/drive\n"
          ],
          "name": "stdout"
        }
      ]
    },
    {
      "cell_type": "code",
      "metadata": {
        "id": "uJoAdkJJZq27",
        "colab_type": "code",
        "outputId": "01ed0f4e-ae2e-4a0b-a347-f7e033a881ef",
        "colab": {
          "base_uri": "https://localhost:8080/",
          "height": 34
        }
      },
      "source": [
        "!ls /content/drive/'My Drive'/'Colab Notebooks'/diplomski"
      ],
      "execution_count": 0,
      "outputs": [
        {
          "output_type": "stream",
          "text": [
            "training_1\n"
          ],
          "name": "stdout"
        }
      ]
    },
    {
      "cell_type": "code",
      "metadata": {
        "id": "vwxTCMpEZ90z",
        "colab_type": "code",
        "colab": {}
      },
      "source": [
        "import tensorflow.keras.callbacks "
      ],
      "execution_count": 0,
      "outputs": []
    },
    {
      "cell_type": "code",
      "metadata": {
        "id": "xUu1PWsJZwbt",
        "colab_type": "code",
        "colab": {}
      },
      "source": [
        "dir = \"/content/drive/'My Drive'/'Colab Notebooks'/diplomski\"\n",
        "checkpoint_path = \"/training_1/cp.ckpt\"\n",
        "\n",
        "\n",
        "# Create a callback that saves the model's weights\n",
        "cp_callback = tensorflow.keras.callbacks.ModelCheckpoint(filepath=checkpoint_path,\n",
        "                              save_weights_only=True,\n",
        "                              verbose=1)\n",
        "\n",
        "#early stop callback\n",
        "es_callback=tf.keras.callbacks.EarlyStopping(patience=8, monitor='val_accuracy',\n",
        "                                     restore_best_weights=True)"
      ],
      "execution_count": 0,
      "outputs": []
    },
    {
      "cell_type": "code",
      "metadata": {
        "id": "QPDkd4LEaMQC",
        "colab_type": "code",
        "outputId": "053435e2-06aa-410d-ede6-1c6b17054614",
        "colab": {
          "base_uri": "https://localhost:8080/",
          "height": 51
        }
      },
      "source": [
        "!ls /content/drive/'My Drive'/'Colab Notebooks'/diplomski/training_1\n",
        "!pwd"
      ],
      "execution_count": 0,
      "outputs": [
        {
          "output_type": "stream",
          "text": [
            "checkpoints  my_model.h5\n",
            "/content\n"
          ],
          "name": "stdout"
        }
      ]
    },
    {
      "cell_type": "markdown",
      "metadata": {
        "id": "qb__6B24ZNGY",
        "colab_type": "text"
      },
      "source": [
        "# Train model"
      ]
    },
    {
      "cell_type": "code",
      "metadata": {
        "id": "vcYGdS8-ZR4M",
        "colab_type": "code",
        "outputId": "300f0da8-9a34-4c43-ebb8-6bbd45959f6e",
        "colab": {
          "base_uri": "https://localhost:8080/",
          "height": 1000
        }
      },
      "source": [
        "print(type(x_train))\n",
        "print(type(y_train_OH))\n",
        "print(type(x_test))\n",
        "print(type(y_test_OH))\n",
        "\n",
        "history = model.fit_generator(generator=batches,steps_per_epoch=steps_per_epoch, epochs=100, \n",
        "                    validation_data=test_batches, validation_steps=validation_steps,\n",
        "                    callbacks=[cp_callback, es_callback])"
      ],
      "execution_count": 0,
      "outputs": [
        {
          "output_type": "stream",
          "text": [
            "<class 'tensorflow.python.framework.ops.EagerTensor'>\n",
            "<class 'tensorflow.python.framework.ops.EagerTensor'>\n",
            "<class 'tensorflow.python.framework.ops.EagerTensor'>\n",
            "<class 'tensorflow.python.framework.ops.EagerTensor'>\n",
            "Epoch 1/100\n",
            "87/87 [==============================] - ETA: 0s - loss: 0.2678 - accuracy: 0.9108\n",
            "Epoch 00001: saving model to /training_1/cp.ckpt\n",
            "87/87 [==============================] - 24s 273ms/step - loss: 0.2678 - accuracy: 0.9108 - val_loss: 8.1382 - val_accuracy: 0.0657\n",
            "Epoch 2/100\n",
            "87/87 [==============================] - ETA: 0s - loss: 0.2295 - accuracy: 0.9221\n",
            "Epoch 00002: saving model to /training_1/cp.ckpt\n",
            "87/87 [==============================] - 24s 274ms/step - loss: 0.2295 - accuracy: 0.9221 - val_loss: 6.7688 - val_accuracy: 0.0724\n",
            "Epoch 3/100\n",
            "87/87 [==============================] - ETA: 0s - loss: 0.2136 - accuracy: 0.9279\n",
            "Epoch 00003: saving model to /training_1/cp.ckpt\n",
            "87/87 [==============================] - 24s 275ms/step - loss: 0.2136 - accuracy: 0.9279 - val_loss: 4.5697 - val_accuracy: 0.1596\n",
            "Epoch 4/100\n",
            "87/87 [==============================] - ETA: 0s - loss: 0.1987 - accuracy: 0.9312\n",
            "Epoch 00004: saving model to /training_1/cp.ckpt\n",
            "87/87 [==============================] - 24s 276ms/step - loss: 0.1987 - accuracy: 0.9312 - val_loss: 1.2112 - val_accuracy: 0.6270\n",
            "Epoch 5/100\n",
            "87/87 [==============================] - ETA: 0s - loss: 0.1890 - accuracy: 0.9344\n",
            "Epoch 00005: saving model to /training_1/cp.ckpt\n",
            "87/87 [==============================] - 24s 273ms/step - loss: 0.1890 - accuracy: 0.9344 - val_loss: 0.3697 - val_accuracy: 0.8733\n",
            "Epoch 6/100\n",
            "87/87 [==============================] - ETA: 0s - loss: 0.1784 - accuracy: 0.9377\n",
            "Epoch 00006: saving model to /training_1/cp.ckpt\n",
            "87/87 [==============================] - 24s 275ms/step - loss: 0.1784 - accuracy: 0.9377 - val_loss: 0.3335 - val_accuracy: 0.8899\n",
            "Epoch 7/100\n",
            "87/87 [==============================] - ETA: 0s - loss: 0.1716 - accuracy: 0.9398\n",
            "Epoch 00007: saving model to /training_1/cp.ckpt\n",
            "87/87 [==============================] - 24s 275ms/step - loss: 0.1716 - accuracy: 0.9398 - val_loss: 0.2324 - val_accuracy: 0.9180\n",
            "Epoch 8/100\n",
            "87/87 [==============================] - ETA: 0s - loss: 0.1655 - accuracy: 0.9422\n",
            "Epoch 00008: saving model to /training_1/cp.ckpt\n",
            "87/87 [==============================] - 24s 274ms/step - loss: 0.1655 - accuracy: 0.9422 - val_loss: 0.2123 - val_accuracy: 0.9272\n",
            "Epoch 9/100\n",
            "87/87 [==============================] - ETA: 0s - loss: 0.1645 - accuracy: 0.9418\n",
            "Epoch 00009: saving model to /training_1/cp.ckpt\n",
            "87/87 [==============================] - 24s 277ms/step - loss: 0.1645 - accuracy: 0.9418 - val_loss: 0.2219 - val_accuracy: 0.9224\n",
            "Epoch 10/100\n",
            "87/87 [==============================] - ETA: 0s - loss: 0.1560 - accuracy: 0.9441\n",
            "Epoch 00010: saving model to /training_1/cp.ckpt\n",
            "87/87 [==============================] - 24s 273ms/step - loss: 0.1560 - accuracy: 0.9441 - val_loss: 0.2004 - val_accuracy: 0.9269\n",
            "Epoch 11/100\n",
            "87/87 [==============================] - ETA: 0s - loss: 0.1529 - accuracy: 0.9456\n",
            "Epoch 00011: saving model to /training_1/cp.ckpt\n",
            "87/87 [==============================] - 24s 277ms/step - loss: 0.1529 - accuracy: 0.9456 - val_loss: 0.2004 - val_accuracy: 0.9293\n",
            "Epoch 12/100\n",
            "87/87 [==============================] - ETA: 0s - loss: 0.1529 - accuracy: 0.9448\n",
            "Epoch 00012: saving model to /training_1/cp.ckpt\n",
            "87/87 [==============================] - 24s 273ms/step - loss: 0.1529 - accuracy: 0.9448 - val_loss: 0.2063 - val_accuracy: 0.9256\n",
            "Epoch 13/100\n",
            "87/87 [==============================] - ETA: 0s - loss: 0.1477 - accuracy: 0.9468\n",
            "Epoch 00013: saving model to /training_1/cp.ckpt\n",
            "87/87 [==============================] - 24s 276ms/step - loss: 0.1477 - accuracy: 0.9468 - val_loss: 0.2212 - val_accuracy: 0.9229\n",
            "Epoch 14/100\n",
            "87/87 [==============================] - ETA: 0s - loss: 0.1419 - accuracy: 0.9478\n",
            "Epoch 00014: saving model to /training_1/cp.ckpt\n",
            "87/87 [==============================] - 24s 275ms/step - loss: 0.1419 - accuracy: 0.9478 - val_loss: 0.2025 - val_accuracy: 0.9291\n",
            "Epoch 15/100\n",
            "87/87 [==============================] - ETA: 0s - loss: 0.1452 - accuracy: 0.9470\n",
            "Epoch 00015: saving model to /training_1/cp.ckpt\n",
            "87/87 [==============================] - 24s 273ms/step - loss: 0.1452 - accuracy: 0.9470 - val_loss: 0.1990 - val_accuracy: 0.9288\n",
            "Epoch 16/100\n",
            "87/87 [==============================] - ETA: 0s - loss: 0.1407 - accuracy: 0.9479\n",
            "Epoch 00016: saving model to /training_1/cp.ckpt\n",
            "87/87 [==============================] - 24s 276ms/step - loss: 0.1407 - accuracy: 0.9479 - val_loss: 0.1916 - val_accuracy: 0.9323\n",
            "Epoch 17/100\n",
            "87/87 [==============================] - ETA: 0s - loss: 0.1375 - accuracy: 0.9492\n",
            "Epoch 00017: saving model to /training_1/cp.ckpt\n",
            "87/87 [==============================] - 24s 274ms/step - loss: 0.1375 - accuracy: 0.9492 - val_loss: 0.2010 - val_accuracy: 0.9297\n",
            "Epoch 18/100\n",
            "87/87 [==============================] - ETA: 0s - loss: 0.1342 - accuracy: 0.9511\n",
            "Epoch 00018: saving model to /training_1/cp.ckpt\n",
            "87/87 [==============================] - 24s 275ms/step - loss: 0.1342 - accuracy: 0.9511 - val_loss: 0.2037 - val_accuracy: 0.9300\n",
            "Epoch 19/100\n",
            "87/87 [==============================] - ETA: 0s - loss: 0.1331 - accuracy: 0.9499\n",
            "Epoch 00019: saving model to /training_1/cp.ckpt\n",
            "87/87 [==============================] - 24s 274ms/step - loss: 0.1331 - accuracy: 0.9499 - val_loss: 0.1954 - val_accuracy: 0.9339\n",
            "Epoch 20/100\n",
            "87/87 [==============================] - ETA: 0s - loss: 0.1311 - accuracy: 0.9507\n",
            "Epoch 00020: saving model to /training_1/cp.ckpt\n",
            "87/87 [==============================] - 24s 273ms/step - loss: 0.1311 - accuracy: 0.9507 - val_loss: 0.1923 - val_accuracy: 0.9326\n",
            "Epoch 21/100\n",
            "87/87 [==============================] - ETA: 0s - loss: 0.1308 - accuracy: 0.9505\n",
            "Epoch 00021: saving model to /training_1/cp.ckpt\n",
            "87/87 [==============================] - 24s 274ms/step - loss: 0.1308 - accuracy: 0.9505 - val_loss: 0.2055 - val_accuracy: 0.9287\n",
            "Epoch 22/100\n",
            "87/87 [==============================] - ETA: 0s - loss: 0.1240 - accuracy: 0.9536\n",
            "Epoch 00022: saving model to /training_1/cp.ckpt\n",
            "87/87 [==============================] - 24s 274ms/step - loss: 0.1240 - accuracy: 0.9536 - val_loss: 0.1913 - val_accuracy: 0.9357\n",
            "Epoch 23/100\n",
            "87/87 [==============================] - ETA: 0s - loss: 0.1278 - accuracy: 0.9520\n",
            "Epoch 00023: saving model to /training_1/cp.ckpt\n",
            "87/87 [==============================] - 24s 276ms/step - loss: 0.1278 - accuracy: 0.9520 - val_loss: 0.2054 - val_accuracy: 0.9297\n",
            "Epoch 24/100\n",
            "87/87 [==============================] - ETA: 0s - loss: 0.1249 - accuracy: 0.9533\n",
            "Epoch 00024: saving model to /training_1/cp.ckpt\n",
            "87/87 [==============================] - 24s 272ms/step - loss: 0.1249 - accuracy: 0.9533 - val_loss: 0.1983 - val_accuracy: 0.9303\n",
            "Epoch 25/100\n",
            "87/87 [==============================] - ETA: 0s - loss: 0.1222 - accuracy: 0.9533\n",
            "Epoch 00025: saving model to /training_1/cp.ckpt\n",
            "87/87 [==============================] - 24s 274ms/step - loss: 0.1222 - accuracy: 0.9533 - val_loss: 0.1933 - val_accuracy: 0.9299\n",
            "Epoch 26/100\n",
            "87/87 [==============================] - ETA: 0s - loss: 0.1239 - accuracy: 0.9526\n",
            "Epoch 00026: saving model to /training_1/cp.ckpt\n",
            "87/87 [==============================] - 24s 278ms/step - loss: 0.1239 - accuracy: 0.9526 - val_loss: 0.1801 - val_accuracy: 0.9327\n",
            "Epoch 27/100\n",
            "87/87 [==============================] - ETA: 0s - loss: 0.1190 - accuracy: 0.9543\n",
            "Epoch 00027: saving model to /training_1/cp.ckpt\n",
            "87/87 [==============================] - 24s 272ms/step - loss: 0.1190 - accuracy: 0.9543 - val_loss: 0.1985 - val_accuracy: 0.9294\n",
            "Epoch 28/100\n",
            "87/87 [==============================] - ETA: 0s - loss: 0.1202 - accuracy: 0.9546\n",
            "Epoch 00028: saving model to /training_1/cp.ckpt\n",
            "87/87 [==============================] - 24s 271ms/step - loss: 0.1202 - accuracy: 0.9546 - val_loss: 0.1885 - val_accuracy: 0.9338\n",
            "Epoch 29/100\n",
            "87/87 [==============================] - ETA: 0s - loss: 0.1176 - accuracy: 0.9550\n",
            "Epoch 00029: saving model to /training_1/cp.ckpt\n",
            "87/87 [==============================] - 24s 279ms/step - loss: 0.1176 - accuracy: 0.9550 - val_loss: 0.2038 - val_accuracy: 0.9290\n",
            "Epoch 30/100\n",
            "87/87 [==============================] - ETA: 0s - loss: 0.1186 - accuracy: 0.9548\n",
            "Epoch 00030: saving model to /training_1/cp.ckpt\n",
            "87/87 [==============================] - 24s 281ms/step - loss: 0.1186 - accuracy: 0.9548 - val_loss: 0.1942 - val_accuracy: 0.9318\n"
          ],
          "name": "stdout"
        }
      ]
    },
    {
      "cell_type": "code",
      "metadata": {
        "id": "dmvdI48qfKpb",
        "colab_type": "code",
        "outputId": "f3c9509c-1698-41f9-acdc-f7512c139b2b",
        "colab": {
          "base_uri": "https://localhost:8080/",
          "height": 317
        }
      },
      "source": [
        "plt.plot(history.history['accuracy'], label='accuracy')\n",
        "plt.plot(history.history['val_accuracy'], label = 'validation_accuracy')\n",
        "plt.xlabel('Epoch')\n",
        "plt.ylabel('Accuracy')\n",
        "plt.ylim([0.8, 1])\n",
        "plt.legend(loc='lower right')\n",
        "\n",
        "test_loss, test_acc = model.evaluate(x_test,  y_test_OH, verbose=2)\n",
        "print(\"Trained model, accuracy: {:5.2f}%\".format(100*test_acc))"
      ],
      "execution_count": 0,
      "outputs": [
        {
          "output_type": "stream",
          "text": [
            "463/463 - 1s - loss: 0.1931 - accuracy: 0.9348\n",
            "Trained model, accuracy: 93.48%\n"
          ],
          "name": "stdout"
        },
        {
          "output_type": "display_data",
          "data": {
            "image/png": "[encoded data removed]",
            "text/plain": [
              "<Figure size 432x288 with 1 Axes>"
            ]
          },
          "metadata": {
            "tags": []
          }
        }
      ]
    },
    {
      "cell_type": "markdown",
      "metadata": {
        "id": "m67UPsF7agoe",
        "colab_type": "text"
      },
      "source": [
        "# Save model"
      ]
    },
    {
      "cell_type": "code",
      "metadata": {
        "id": "tyvMecUhe5Gt",
        "colab_type": "code",
        "colab": {}
      },
      "source": [
        "model.save_weights(\"/content/drive/My Drive/Colab Notebooks/diplomski/training_1/checkpoints/my_checkpoint\")\n",
        "model.save(\"/content/drive/My Drive/Colab Notebooks/diplomski/training_1/my_model.h5\") "
      ],
      "execution_count": 0,
      "outputs": []
    },
    {
      "cell_type": "markdown",
      "metadata": {
        "id": "2XcfH2VUAeUZ",
        "colab_type": "text"
      },
      "source": [
        "# Try to predict classes on test set"
      ]
    },
    {
      "cell_type": "code",
      "metadata": {
        "id": "oj6Gj2w1Aj7m",
        "colab_type": "code",
        "outputId": "c1712ef3-80ea-41d8-91bd-c5e32d61c9ac",
        "colab": {
          "base_uri": "https://localhost:8080/",
          "height": 34
        }
      },
      "source": [
        "predictions_OH = model.predict(x_test, batch_size=1024)\n",
        "print(predictions_OH.shape)"
      ],
      "execution_count": 0,
      "outputs": [
        {
          "output_type": "stream",
          "text": [
            "(14800, 26)\n"
          ],
          "name": "stdout"
        }
      ]
    },
    {
      "cell_type": "code",
      "metadata": {
        "id": "Kc02ZrBCBtEc",
        "colab_type": "code",
        "outputId": "c92380cd-4ff3-42d0-f0d4-63815b2e57a5",
        "colab": {
          "base_uri": "https://localhost:8080/",
          "height": 34
        }
      },
      "source": [
        "predictions=tf.math.argmax(predictions_OH, axis=1)\n",
        "print(predictions.shape)"
      ],
      "execution_count": 0,
      "outputs": [
        {
          "output_type": "stream",
          "text": [
            "(14800,)\n"
          ],
          "name": "stdout"
        }
      ]
    },
    {
      "cell_type": "markdown",
      "metadata": {
        "id": "aFcePDMdCOq1",
        "colab_type": "text"
      },
      "source": [
        "**Get correct predictions**"
      ]
    },
    {
      "cell_type": "code",
      "metadata": {
        "id": "XEsLp8GtCGqW",
        "colab_type": "code",
        "outputId": "5f360995-005a-4d3e-95f5-7b5c617c9875",
        "colab": {
          "base_uri": "https://localhost:8080/",
          "height": 34
        }
      },
      "source": [
        "correct=tf.where(predictions==y_test)\n",
        "print(correct.shape)"
      ],
      "execution_count": 0,
      "outputs": [
        {
          "output_type": "stream",
          "text": [
            "(13835, 1)\n"
          ],
          "name": "stdout"
        }
      ]
    },
    {
      "cell_type": "markdown",
      "metadata": {
        "id": "lotU9_bjCp-X",
        "colab_type": "text"
      },
      "source": [
        "**Get incorrect predictions**"
      ]
    },
    {
      "cell_type": "code",
      "metadata": {
        "id": "phuMt4FoCx01",
        "colab_type": "code",
        "outputId": "3ca0b206-e367-4819-c0f4-c63b092e90e2",
        "colab": {
          "base_uri": "https://localhost:8080/",
          "height": 34
        }
      },
      "source": [
        "incorrect=tf.where(predictions!=y_test)\n",
        "print(incorrect.shape)"
      ],
      "execution_count": 0,
      "outputs": [
        {
          "output_type": "stream",
          "text": [
            "(965, 1)\n"
          ],
          "name": "stdout"
        }
      ]
    },
    {
      "cell_type": "markdown",
      "metadata": {
        "id": "rmVh_yedC8G8",
        "colab_type": "text"
      },
      "source": [
        ""
      ]
    },
    {
      "cell_type": "markdown",
      "metadata": {
        "id": "VCVWF9Qc9e3W",
        "colab_type": "text"
      },
      "source": [
        "# Visualize model (todo)"
      ]
    },
    {
      "cell_type": "code",
      "metadata": {
        "id": "bRLZNzIK9jJy",
        "colab_type": "code",
        "colab": {}
      },
      "source": [
        "import pydotplus as pydot\n",
        "\n",
        "from keras.utils import plot_model\n",
        "plot_model(models[0], to_file='model.png')\n",
        "\n",
        "# visualize our model\n",
        "from IPython.display import SVG\n",
        "from keras.utils.vis_utils import model_to_dot\n",
        "SVG(model_to_dot(models[0]).create(prog='dot', format='svg'))\n"
      ],
      "execution_count": 0,
      "outputs": []
    },
    {
      "cell_type": "markdown",
      "metadata": {
        "id": "d0-nFuKBqxbe",
        "colab_type": "text"
      },
      "source": [
        "# Use TensorBoard"
      ]
    },
    {
      "cell_type": "code",
      "metadata": {
        "id": "nCpJG6HsqxI3",
        "colab_type": "code",
        "colab": {}
      },
      "source": [
        "%load_ext tensorboard\n",
        "%tensorboard --logdir logs"
      ],
      "execution_count": 0,
      "outputs": []
    }
  ]
}